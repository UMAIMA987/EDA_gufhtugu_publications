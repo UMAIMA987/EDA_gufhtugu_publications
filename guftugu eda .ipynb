{
 "cells": [
  {
   "cell_type": "code",
   "execution_count": 88,
   "metadata": {
    "_cell_guid": "b1076dfc-b9ad-4769-8c92-a6c4dae69d19",
    "_uuid": "8f2839f25d086af736a60e9eeb907d3b93b6e0e5",
    "execution": {
     "iopub.execute_input": "2023-03-13T22:47:44.248076Z",
     "iopub.status.busy": "2023-03-13T22:47:44.247678Z",
     "iopub.status.idle": "2023-03-13T22:47:44.259276Z",
     "shell.execute_reply": "2023-03-13T22:47:44.258359Z",
     "shell.execute_reply.started": "2023-03-13T22:47:44.248041Z"
    }
   },
   "outputs": [
    {
     "name": "stdout",
     "output_type": "stream",
     "text": [
      "/kaggle/input/gufhtugu-publications-dataset-challenge/GP Orders - 2.csv\n",
      "/kaggle/input/gufhtugu-publications-dataset-challenge/GP Orders - 4.csv\n",
      "/kaggle/input/gufhtugu-publications-dataset-challenge/GP Orders - 5.csv\n"
     ]
    }
   ],
   "source": [
    "# This Python 3 environment comes with many helpful analytics libraries installed\n",
    "# It is defined by the kaggle/python Docker image: https://github.com/kaggle/docker-python\n",
    "# For example, here's several helpful packages to load\n",
    "\n",
    "import numpy as np # linear algebra\n",
    "import pandas as pd # data processing, CSV file I/O (e.g. pd.read_csv)\n",
    "import seaborn as sns # data visualization\n",
    "import matplotlib.pyplot as plt\n",
    "import re\n",
    "\n",
    "# Input data files are available in the read-only \"../input/\" directory\n",
    "# For example, running this (by clicking run or pressing Shift+Enter) will list all files under the input directory\n",
    "\n",
    "import os\n",
    "for dirname, _, filenames in os.walk('/kaggle/input'):\n",
    "    for filename in filenames:\n",
    "        print(os.path.join(dirname, filename))\n",
    "\n",
    "# You can write up to 20GB to the current directory (/kaggle/working/) that gets preserved as output when you create a version using \"Save & Run All\" \n",
    "# You can also write temporary files to /kaggle/temp/, but they won't be saved outside of the current session"
   ]
  },
  {
   "cell_type": "markdown",
   "metadata": {},
   "source": [
    "# **I am not trying to do same analysis what others are already done. Like best selling book or corr between diff columns.I try to find out something different . Must read my notebook and you will definitely explore something new.**"
   ]
  },
  {
   "cell_type": "markdown",
   "metadata": {},
   "source": [
    "# **What we have to do?**"
   ]
  },
  {
   "cell_type": "markdown",
   "metadata": {},
   "source": [
    "\n",
    "\n",
    "*  Top 10 cities with max orders.\n",
    "*  Visualize order status frequency\n",
    "*  Payment Method selected by people.\n",
    "*  Hidden Pattern of returned orders.\n",
    "*  Is Online Payment or Bank transfer reason of cancellation?\n",
    "*  Any specific book which is return."
   ]
  },
  {
   "cell_type": "markdown",
   "metadata": {},
   "source": [
    "# Loading dataset "
   ]
  },
  {
   "cell_type": "code",
   "execution_count": 89,
   "metadata": {
    "execution": {
     "iopub.execute_input": "2023-03-13T22:47:44.261376Z",
     "iopub.status.busy": "2023-03-13T22:47:44.260769Z",
     "iopub.status.idle": "2023-03-13T22:47:44.315200Z",
     "shell.execute_reply": "2023-03-13T22:47:44.313641Z",
     "shell.execute_reply.started": "2023-03-13T22:47:44.261304Z"
    }
   },
   "outputs": [
    {
     "data": {
      "text/html": [
       "<div>\n",
       "<style scoped>\n",
       "    .dataframe tbody tr th:only-of-type {\n",
       "        vertical-align: middle;\n",
       "    }\n",
       "\n",
       "    .dataframe tbody tr th {\n",
       "        vertical-align: top;\n",
       "    }\n",
       "\n",
       "    .dataframe thead th {\n",
       "        text-align: right;\n",
       "    }\n",
       "</style>\n",
       "<table border=\"1\" class=\"dataframe\">\n",
       "  <thead>\n",
       "    <tr style=\"text-align: right;\">\n",
       "      <th></th>\n",
       "      <th>Order Number</th>\n",
       "      <th>Order Status</th>\n",
       "      <th>Book Name</th>\n",
       "      <th>Order Date</th>\n",
       "      <th>City (Billing)</th>\n",
       "    </tr>\n",
       "  </thead>\n",
       "  <tbody>\n",
       "    <tr>\n",
       "      <th>0</th>\n",
       "      <td>70978</td>\n",
       "      <td>Completed</td>\n",
       "      <td>Column Nigari Kese Sekhain</td>\n",
       "      <td>1/20/2021 17:43</td>\n",
       "      <td>Swat</td>\n",
       "    </tr>\n",
       "    <tr>\n",
       "      <th>1</th>\n",
       "      <td>70962</td>\n",
       "      <td>Completed</td>\n",
       "      <td>انٹرنیٹ سے پیسہ کمائیں</td>\n",
       "      <td>1/20/2021 13:37</td>\n",
       "      <td>Karachi</td>\n",
       "    </tr>\n",
       "    <tr>\n",
       "      <th>2</th>\n",
       "      <td>70960</td>\n",
       "      <td>Completed</td>\n",
       "      <td>Justju ka safar-1/Waqfa e Pareshani</td>\n",
       "      <td>1/20/2021 10:48</td>\n",
       "      <td>Karachi</td>\n",
       "    </tr>\n",
       "    <tr>\n",
       "      <th>3</th>\n",
       "      <td>70959</td>\n",
       "      <td>Completed</td>\n",
       "      <td>R ka Taaruf</td>\n",
       "      <td>1/20/2021 10:32</td>\n",
       "      <td>Karachi</td>\n",
       "    </tr>\n",
       "    <tr>\n",
       "      <th>4</th>\n",
       "      <td>70958</td>\n",
       "      <td>Completed</td>\n",
       "      <td>انٹرنیٹ سے پیسہ کمائیں</td>\n",
       "      <td>1/20/2021 10:29</td>\n",
       "      <td>Karachi</td>\n",
       "    </tr>\n",
       "  </tbody>\n",
       "</table>\n",
       "</div>"
      ],
      "text/plain": [
       "   Order Number Order Status                            Book Name  \\\n",
       "0         70978    Completed           Column Nigari Kese Sekhain   \n",
       "1         70962    Completed               انٹرنیٹ سے پیسہ کمائیں   \n",
       "2         70960    Completed  Justju ka safar-1/Waqfa e Pareshani   \n",
       "3         70959    Completed                          R ka Taaruf   \n",
       "4         70958    Completed               انٹرنیٹ سے پیسہ کمائیں   \n",
       "\n",
       "        Order Date City (Billing)  \n",
       "0  1/20/2021 17:43           Swat  \n",
       "1  1/20/2021 13:37        Karachi  \n",
       "2  1/20/2021 10:48        Karachi  \n",
       "3  1/20/2021 10:32        Karachi  \n",
       "4  1/20/2021 10:29        Karachi  "
      ]
     },
     "execution_count": 89,
     "metadata": {},
     "output_type": "execute_result"
    }
   ],
   "source": [
    "df1 = pd.read_csv('/kaggle/input/gufhtugu-publications-dataset-challenge/GP Orders - 4.csv')\n",
    "\n",
    "df1.head()\n",
    "\n"
   ]
  },
  {
   "cell_type": "code",
   "execution_count": 90,
   "metadata": {
    "execution": {
     "iopub.execute_input": "2023-03-13T22:47:44.317597Z",
     "iopub.status.busy": "2023-03-13T22:47:44.317289Z",
     "iopub.status.idle": "2023-03-13T22:47:44.367554Z",
     "shell.execute_reply": "2023-03-13T22:47:44.365941Z",
     "shell.execute_reply.started": "2023-03-13T22:47:44.317571Z"
    }
   },
   "outputs": [
    {
     "data": {
      "text/html": [
       "<div>\n",
       "<style scoped>\n",
       "    .dataframe tbody tr th:only-of-type {\n",
       "        vertical-align: middle;\n",
       "    }\n",
       "\n",
       "    .dataframe tbody tr th {\n",
       "        vertical-align: top;\n",
       "    }\n",
       "\n",
       "    .dataframe thead th {\n",
       "        text-align: right;\n",
       "    }\n",
       "</style>\n",
       "<table border=\"1\" class=\"dataframe\">\n",
       "  <thead>\n",
       "    <tr style=\"text-align: right;\">\n",
       "      <th></th>\n",
       "      <th>Order Number</th>\n",
       "      <th>Order Status</th>\n",
       "      <th>Book Name</th>\n",
       "      <th>Order Date &amp; Time</th>\n",
       "      <th>City</th>\n",
       "      <th>Payment Method</th>\n",
       "      <th>Total items</th>\n",
       "      <th>Total weight (grams)</th>\n",
       "    </tr>\n",
       "  </thead>\n",
       "  <tbody>\n",
       "    <tr>\n",
       "      <th>0</th>\n",
       "      <td>307</td>\n",
       "      <td>Completed</td>\n",
       "      <td>Bitcoin Blockchain aur Crypto Currency - FREE ...</td>\n",
       "      <td>10/3/2019 15:03</td>\n",
       "      <td>faisalabad</td>\n",
       "      <td>NaN</td>\n",
       "      <td>2</td>\n",
       "      <td>200.0</td>\n",
       "    </tr>\n",
       "    <tr>\n",
       "      <th>1</th>\n",
       "      <td>308</td>\n",
       "      <td>Completed</td>\n",
       "      <td>Kaggle for Begginers</td>\n",
       "      <td>10/3/2019 15:54</td>\n",
       "      <td>Rawalpindi</td>\n",
       "      <td>Cash on Delivery (COD)</td>\n",
       "      <td>1</td>\n",
       "      <td>200.0</td>\n",
       "    </tr>\n",
       "    <tr>\n",
       "      <th>2</th>\n",
       "      <td>309</td>\n",
       "      <td>Completed</td>\n",
       "      <td>Kaggle for Begginers/Bitcoin Blockchain aur Cr...</td>\n",
       "      <td>10/3/2019 16:09</td>\n",
       "      <td>Hyderabad</td>\n",
       "      <td>Cash on Delivery (COD)</td>\n",
       "      <td>2</td>\n",
       "      <td>200.0</td>\n",
       "    </tr>\n",
       "    <tr>\n",
       "      <th>3</th>\n",
       "      <td>310</td>\n",
       "      <td>Cancelled</td>\n",
       "      <td>Kaggle for Begginers</td>\n",
       "      <td>10/3/2019 16:42</td>\n",
       "      <td>Rawalpindi</td>\n",
       "      <td>Cash on Delivery (COD)</td>\n",
       "      <td>1</td>\n",
       "      <td>200.0</td>\n",
       "    </tr>\n",
       "    <tr>\n",
       "      <th>4</th>\n",
       "      <td>311</td>\n",
       "      <td>Completed</td>\n",
       "      <td>Bit Coin Block Chain aur Crypto Currency بٹ کو...</td>\n",
       "      <td>10/3/2019 16:44</td>\n",
       "      <td>Karachi</td>\n",
       "      <td>Cash on Delivery (COD)</td>\n",
       "      <td>1</td>\n",
       "      <td>200.0</td>\n",
       "    </tr>\n",
       "  </tbody>\n",
       "</table>\n",
       "</div>"
      ],
      "text/plain": [
       "   Order Number Order Status  \\\n",
       "0           307    Completed   \n",
       "1           308    Completed   \n",
       "2           309    Completed   \n",
       "3           310    Cancelled   \n",
       "4           311    Completed   \n",
       "\n",
       "                                           Book Name Order Date & Time  \\\n",
       "0  Bitcoin Blockchain aur Crypto Currency - FREE ...   10/3/2019 15:03   \n",
       "1                               Kaggle for Begginers   10/3/2019 15:54   \n",
       "2  Kaggle for Begginers/Bitcoin Blockchain aur Cr...   10/3/2019 16:09   \n",
       "3                               Kaggle for Begginers   10/3/2019 16:42   \n",
       "4  Bit Coin Block Chain aur Crypto Currency بٹ کو...   10/3/2019 16:44   \n",
       "\n",
       "         City          Payment Method  Total items  Total weight (grams)  \n",
       "0  faisalabad                     NaN            2                 200.0  \n",
       "1  Rawalpindi  Cash on Delivery (COD)            1                 200.0  \n",
       "2   Hyderabad  Cash on Delivery (COD)            2                 200.0  \n",
       "3  Rawalpindi  Cash on Delivery (COD)            1                 200.0  \n",
       "4    Karachi   Cash on Delivery (COD)            1                 200.0  "
      ]
     },
     "execution_count": 90,
     "metadata": {},
     "output_type": "execute_result"
    }
   ],
   "source": [
    "\n",
    "df2 = pd.read_csv('/kaggle/input/gufhtugu-publications-dataset-challenge/GP Orders - 5.csv')\n",
    "df2.head()\n"
   ]
  },
  {
   "cell_type": "code",
   "execution_count": 91,
   "metadata": {
    "execution": {
     "iopub.execute_input": "2023-03-13T22:47:44.369266Z",
     "iopub.status.busy": "2023-03-13T22:47:44.368923Z",
     "iopub.status.idle": "2023-03-13T22:47:44.389647Z",
     "shell.execute_reply": "2023-03-13T22:47:44.387658Z",
     "shell.execute_reply.started": "2023-03-13T22:47:44.369233Z"
    }
   },
   "outputs": [
    {
     "name": "stdout",
     "output_type": "stream",
     "text": [
      "<class 'pandas.core.frame.DataFrame'>\n",
      "RangeIndex: 19187 entries, 0 to 19186\n",
      "Data columns (total 5 columns):\n",
      " #   Column          Non-Null Count  Dtype \n",
      "---  ------          --------------  ----- \n",
      " 0   Order Number    19187 non-null  int64 \n",
      " 1   Order Status    19187 non-null  object\n",
      " 2   Book Name       19185 non-null  object\n",
      " 3   Order Date      19187 non-null  object\n",
      " 4   City (Billing)  19186 non-null  object\n",
      "dtypes: int64(1), object(4)\n",
      "memory usage: 749.6+ KB\n"
     ]
    }
   ],
   "source": [
    "df1.info()"
   ]
  },
  {
   "cell_type": "code",
   "execution_count": 92,
   "metadata": {
    "execution": {
     "iopub.execute_input": "2023-03-13T22:47:44.393019Z",
     "iopub.status.busy": "2023-03-13T22:47:44.392618Z",
     "iopub.status.idle": "2023-03-13T22:47:44.412751Z",
     "shell.execute_reply": "2023-03-13T22:47:44.410945Z",
     "shell.execute_reply.started": "2023-03-13T22:47:44.392984Z"
    }
   },
   "outputs": [
    {
     "name": "stdout",
     "output_type": "stream",
     "text": [
      "<class 'pandas.core.frame.DataFrame'>\n",
      "RangeIndex: 19239 entries, 0 to 19238\n",
      "Data columns (total 8 columns):\n",
      " #   Column                Non-Null Count  Dtype  \n",
      "---  ------                --------------  -----  \n",
      " 0   Order Number          19239 non-null  int64  \n",
      " 1   Order Status          19239 non-null  object \n",
      " 2   Book Name             19237 non-null  object \n",
      " 3   Order Date & Time     19239 non-null  object \n",
      " 4   City                  19238 non-null  object \n",
      " 5   Payment Method        19229 non-null  object \n",
      " 6   Total items           19239 non-null  int64  \n",
      " 7   Total weight (grams)  19239 non-null  float64\n",
      "dtypes: float64(1), int64(2), object(5)\n",
      "memory usage: 1.2+ MB\n"
     ]
    }
   ],
   "source": [
    "df2.info()"
   ]
  },
  {
   "cell_type": "markdown",
   "metadata": {},
   "source": [
    "df2 has more coulmns and I can do analysis more on that.  That's why I am working only on df2."
   ]
  },
  {
   "cell_type": "code",
   "execution_count": 93,
   "metadata": {
    "execution": {
     "iopub.execute_input": "2023-03-13T22:47:44.415390Z",
     "iopub.status.busy": "2023-03-13T22:47:44.414914Z",
     "iopub.status.idle": "2023-03-13T22:47:44.423317Z",
     "shell.execute_reply": "2023-03-13T22:47:44.421870Z",
     "shell.execute_reply.started": "2023-03-13T22:47:44.415344Z"
    }
   },
   "outputs": [
    {
     "data": {
      "text/plain": [
       "(19239, 8)"
      ]
     },
     "execution_count": 93,
     "metadata": {},
     "output_type": "execute_result"
    }
   ],
   "source": [
    "# finding shape of our dataset\n",
    "\n",
    "df2.shape"
   ]
  },
  {
   "cell_type": "markdown",
   "metadata": {},
   "source": [
    "It has 8 coulmns and 19239 rows."
   ]
  },
  {
   "cell_type": "code",
   "execution_count": 94,
   "metadata": {
    "execution": {
     "iopub.execute_input": "2023-03-13T22:47:44.425864Z",
     "iopub.status.busy": "2023-03-13T22:47:44.425467Z",
     "iopub.status.idle": "2023-03-13T22:47:44.453663Z",
     "shell.execute_reply": "2023-03-13T22:47:44.451475Z",
     "shell.execute_reply.started": "2023-03-13T22:47:44.425827Z"
    }
   },
   "outputs": [
    {
     "data": {
      "text/html": [
       "<div>\n",
       "<style scoped>\n",
       "    .dataframe tbody tr th:only-of-type {\n",
       "        vertical-align: middle;\n",
       "    }\n",
       "\n",
       "    .dataframe tbody tr th {\n",
       "        vertical-align: top;\n",
       "    }\n",
       "\n",
       "    .dataframe thead th {\n",
       "        text-align: right;\n",
       "    }\n",
       "</style>\n",
       "<table border=\"1\" class=\"dataframe\">\n",
       "  <thead>\n",
       "    <tr style=\"text-align: right;\">\n",
       "      <th></th>\n",
       "      <th>Order Number</th>\n",
       "      <th>Total items</th>\n",
       "      <th>Total weight (grams)</th>\n",
       "    </tr>\n",
       "  </thead>\n",
       "  <tbody>\n",
       "    <tr>\n",
       "      <th>count</th>\n",
       "      <td>19239.000000</td>\n",
       "      <td>19239.000000</td>\n",
       "      <td>19239.000000</td>\n",
       "    </tr>\n",
       "    <tr>\n",
       "      <th>mean</th>\n",
       "      <td>52535.780238</td>\n",
       "      <td>6.051874</td>\n",
       "      <td>363.749675</td>\n",
       "    </tr>\n",
       "    <tr>\n",
       "      <th>std</th>\n",
       "      <td>15835.761148</td>\n",
       "      <td>576.938452</td>\n",
       "      <td>834.097325</td>\n",
       "    </tr>\n",
       "    <tr>\n",
       "      <th>min</th>\n",
       "      <td>307.000000</td>\n",
       "      <td>0.000000</td>\n",
       "      <td>200.000000</td>\n",
       "    </tr>\n",
       "    <tr>\n",
       "      <th>25%</th>\n",
       "      <td>48064.500000</td>\n",
       "      <td>1.000000</td>\n",
       "      <td>200.000000</td>\n",
       "    </tr>\n",
       "    <tr>\n",
       "      <th>50%</th>\n",
       "      <td>56436.000000</td>\n",
       "      <td>1.000000</td>\n",
       "      <td>200.000000</td>\n",
       "    </tr>\n",
       "    <tr>\n",
       "      <th>75%</th>\n",
       "      <td>63779.500000</td>\n",
       "      <td>1.000000</td>\n",
       "      <td>500.000000</td>\n",
       "    </tr>\n",
       "    <tr>\n",
       "      <th>max</th>\n",
       "      <td>71420.000000</td>\n",
       "      <td>80022.000000</td>\n",
       "      <td>55000.000000</td>\n",
       "    </tr>\n",
       "  </tbody>\n",
       "</table>\n",
       "</div>"
      ],
      "text/plain": [
       "       Order Number   Total items  Total weight (grams)\n",
       "count  19239.000000  19239.000000          19239.000000\n",
       "mean   52535.780238      6.051874            363.749675\n",
       "std    15835.761148    576.938452            834.097325\n",
       "min      307.000000      0.000000            200.000000\n",
       "25%    48064.500000      1.000000            200.000000\n",
       "50%    56436.000000      1.000000            200.000000\n",
       "75%    63779.500000      1.000000            500.000000\n",
       "max    71420.000000  80022.000000          55000.000000"
      ]
     },
     "execution_count": 94,
     "metadata": {},
     "output_type": "execute_result"
    }
   ],
   "source": [
    "df2.describe()"
   ]
  },
  {
   "cell_type": "markdown",
   "metadata": {},
   "source": [
    "# Finding Outlier"
   ]
  },
  {
   "cell_type": "code",
   "execution_count": 95,
   "metadata": {
    "execution": {
     "iopub.execute_input": "2023-03-13T22:47:44.455605Z",
     "iopub.status.busy": "2023-03-13T22:47:44.455173Z",
     "iopub.status.idle": "2023-03-13T22:47:44.470955Z",
     "shell.execute_reply": "2023-03-13T22:47:44.469475Z",
     "shell.execute_reply.started": "2023-03-13T22:47:44.455567Z"
    }
   },
   "outputs": [
    {
     "data": {
      "text/html": [
       "<div>\n",
       "<style scoped>\n",
       "    .dataframe tbody tr th:only-of-type {\n",
       "        vertical-align: middle;\n",
       "    }\n",
       "\n",
       "    .dataframe tbody tr th {\n",
       "        vertical-align: top;\n",
       "    }\n",
       "\n",
       "    .dataframe thead th {\n",
       "        text-align: right;\n",
       "    }\n",
       "</style>\n",
       "<table border=\"1\" class=\"dataframe\">\n",
       "  <thead>\n",
       "    <tr style=\"text-align: right;\">\n",
       "      <th></th>\n",
       "      <th>Order Number</th>\n",
       "      <th>Order Status</th>\n",
       "      <th>Book Name</th>\n",
       "      <th>Order Date &amp; Time</th>\n",
       "      <th>City</th>\n",
       "      <th>Payment Method</th>\n",
       "      <th>Total items</th>\n",
       "      <th>Total weight (grams)</th>\n",
       "    </tr>\n",
       "  </thead>\n",
       "  <tbody>\n",
       "    <tr>\n",
       "      <th>15981</th>\n",
       "      <td>66499</td>\n",
       "      <td>Returned</td>\n",
       "      <td>انٹرنیٹ سے پیسہ کمائیں</td>\n",
       "      <td>12/27/2020 1:37</td>\n",
       "      <td>City</td>\n",
       "      <td>EasyPaisa</td>\n",
       "      <td>80022</td>\n",
       "      <td>200.0</td>\n",
       "    </tr>\n",
       "  </tbody>\n",
       "</table>\n",
       "</div>"
      ],
      "text/plain": [
       "       Order Number Order Status               Book Name Order Date & Time  \\\n",
       "15981         66499     Returned  انٹرنیٹ سے پیسہ کمائیں   12/27/2020 1:37   \n",
       "\n",
       "       City Payment Method  Total items  Total weight (grams)  \n",
       "15981  City      EasyPaisa        80022                 200.0  "
      ]
     },
     "execution_count": 95,
     "metadata": {},
     "output_type": "execute_result"
    }
   ],
   "source": [
    "df2[df2['Total items'] == 80022]\n",
    "# df2=df[df['Total items'] !=80022]"
   ]
  },
  {
   "cell_type": "code",
   "execution_count": 96,
   "metadata": {
    "execution": {
     "iopub.execute_input": "2023-03-13T22:47:44.473016Z",
     "iopub.status.busy": "2023-03-13T22:47:44.472673Z",
     "iopub.status.idle": "2023-03-13T22:47:44.483846Z",
     "shell.execute_reply": "2023-03-13T22:47:44.482662Z",
     "shell.execute_reply.started": "2023-03-13T22:47:44.472981Z"
    }
   },
   "outputs": [],
   "source": [
    "df2=df2[df2['Total items'] !=80022]"
   ]
  },
  {
   "cell_type": "markdown",
   "metadata": {},
   "source": [
    "# Handling missing values"
   ]
  },
  {
   "cell_type": "code",
   "execution_count": 97,
   "metadata": {
    "execution": {
     "iopub.execute_input": "2023-03-13T22:47:44.485572Z",
     "iopub.status.busy": "2023-03-13T22:47:44.485184Z",
     "iopub.status.idle": "2023-03-13T22:47:44.506492Z",
     "shell.execute_reply": "2023-03-13T22:47:44.505111Z",
     "shell.execute_reply.started": "2023-03-13T22:47:44.485537Z"
    }
   },
   "outputs": [
    {
     "data": {
      "text/plain": [
       "Order Number             0\n",
       "Order Status             0\n",
       "Book Name                2\n",
       "Order Date & Time        0\n",
       "City                     1\n",
       "Payment Method          10\n",
       "Total items              0\n",
       "Total weight (grams)     0\n",
       "dtype: int64"
      ]
     },
     "execution_count": 97,
     "metadata": {},
     "output_type": "execute_result"
    }
   ],
   "source": [
    "df2.isnull().sum()"
   ]
  },
  {
   "cell_type": "code",
   "execution_count": 98,
   "metadata": {
    "execution": {
     "iopub.execute_input": "2023-03-13T22:47:44.511566Z",
     "iopub.status.busy": "2023-03-13T22:47:44.511162Z",
     "iopub.status.idle": "2023-03-13T22:47:44.524367Z",
     "shell.execute_reply": "2023-03-13T22:47:44.522421Z",
     "shell.execute_reply.started": "2023-03-13T22:47:44.511522Z"
    }
   },
   "outputs": [],
   "source": [
    "df2.dropna(subset=['Book Name'] , inplace=True)"
   ]
  },
  {
   "cell_type": "markdown",
   "metadata": {},
   "source": [
    "Drop nan values of book name as it was only 2."
   ]
  },
  {
   "cell_type": "code",
   "execution_count": 99,
   "metadata": {
    "execution": {
     "iopub.execute_input": "2023-03-13T22:47:44.526489Z",
     "iopub.status.busy": "2023-03-13T22:47:44.526070Z",
     "iopub.status.idle": "2023-03-13T22:47:44.542493Z",
     "shell.execute_reply": "2023-03-13T22:47:44.541581Z",
     "shell.execute_reply.started": "2023-03-13T22:47:44.526455Z"
    }
   },
   "outputs": [
    {
     "data": {
      "text/html": [
       "<div>\n",
       "<style scoped>\n",
       "    .dataframe tbody tr th:only-of-type {\n",
       "        vertical-align: middle;\n",
       "    }\n",
       "\n",
       "    .dataframe tbody tr th {\n",
       "        vertical-align: top;\n",
       "    }\n",
       "\n",
       "    .dataframe thead th {\n",
       "        text-align: right;\n",
       "    }\n",
       "</style>\n",
       "<table border=\"1\" class=\"dataframe\">\n",
       "  <thead>\n",
       "    <tr style=\"text-align: right;\">\n",
       "      <th></th>\n",
       "      <th>Order Number</th>\n",
       "      <th>Order Status</th>\n",
       "      <th>Book Name</th>\n",
       "      <th>Order Date &amp; Time</th>\n",
       "      <th>City</th>\n",
       "      <th>Payment Method</th>\n",
       "      <th>Total items</th>\n",
       "      <th>Total weight (grams)</th>\n",
       "    </tr>\n",
       "  </thead>\n",
       "  <tbody>\n",
       "    <tr>\n",
       "      <th>15266</th>\n",
       "      <td>65221</td>\n",
       "      <td>Completed</td>\n",
       "      <td>Blockchain, Cryptocurrency And Bitcoin/R ka Ta...</td>\n",
       "      <td>12/17/2020 7:18</td>\n",
       "      <td>NaN</td>\n",
       "      <td>BankTransfer</td>\n",
       "      <td>6</td>\n",
       "      <td>500.0</td>\n",
       "    </tr>\n",
       "  </tbody>\n",
       "</table>\n",
       "</div>"
      ],
      "text/plain": [
       "       Order Number Order Status  \\\n",
       "15266         65221    Completed   \n",
       "\n",
       "                                               Book Name Order Date & Time  \\\n",
       "15266  Blockchain, Cryptocurrency And Bitcoin/R ka Ta...   12/17/2020 7:18   \n",
       "\n",
       "      City Payment Method  Total items  Total weight (grams)  \n",
       "15266  NaN   BankTransfer            6                 500.0  "
      ]
     },
     "execution_count": 99,
     "metadata": {},
     "output_type": "execute_result"
    }
   ],
   "source": [
    "df2[df2['City'].isnull()]      # city that has null value"
   ]
  },
  {
   "cell_type": "code",
   "execution_count": 100,
   "metadata": {
    "execution": {
     "iopub.execute_input": "2023-03-13T22:47:44.544440Z",
     "iopub.status.busy": "2023-03-13T22:47:44.543471Z",
     "iopub.status.idle": "2023-03-13T22:47:44.552732Z",
     "shell.execute_reply": "2023-03-13T22:47:44.551180Z",
     "shell.execute_reply.started": "2023-03-13T22:47:44.544359Z"
    }
   },
   "outputs": [],
   "source": [
    "# replace nan city with other\n",
    "\n",
    "df2['City'].fillna('other' , inplace = True)"
   ]
  },
  {
   "cell_type": "code",
   "execution_count": 101,
   "metadata": {
    "execution": {
     "iopub.execute_input": "2023-03-13T22:47:44.554265Z",
     "iopub.status.busy": "2023-03-13T22:47:44.553950Z",
     "iopub.status.idle": "2023-03-13T22:47:44.572399Z",
     "shell.execute_reply": "2023-03-13T22:47:44.570277Z",
     "shell.execute_reply.started": "2023-03-13T22:47:44.554239Z"
    }
   },
   "outputs": [],
   "source": [
    "# drop nan values of payment method\n",
    "\n",
    "df2.dropna(subset=['Payment Method'] , inplace=True)"
   ]
  },
  {
   "cell_type": "code",
   "execution_count": 102,
   "metadata": {
    "execution": {
     "iopub.execute_input": "2023-03-13T22:47:44.576161Z",
     "iopub.status.busy": "2023-03-13T22:47:44.575149Z",
     "iopub.status.idle": "2023-03-13T22:47:44.592775Z",
     "shell.execute_reply": "2023-03-13T22:47:44.590491Z",
     "shell.execute_reply.started": "2023-03-13T22:47:44.576099Z"
    }
   },
   "outputs": [
    {
     "data": {
      "text/plain": [
       "Order Number            0\n",
       "Order Status            0\n",
       "Book Name               0\n",
       "Order Date & Time       0\n",
       "City                    0\n",
       "Payment Method          0\n",
       "Total items             0\n",
       "Total weight (grams)    0\n",
       "dtype: int64"
      ]
     },
     "execution_count": 102,
     "metadata": {},
     "output_type": "execute_result"
    }
   ],
   "source": [
    "df2.isnull().sum()"
   ]
  },
  {
   "cell_type": "markdown",
   "metadata": {},
   "source": [
    "Now there are no null values."
   ]
  },
  {
   "cell_type": "markdown",
   "metadata": {},
   "source": [
    "# Removing Duplicates"
   ]
  },
  {
   "cell_type": "code",
   "execution_count": 103,
   "metadata": {
    "execution": {
     "iopub.execute_input": "2023-03-13T22:47:44.595232Z",
     "iopub.status.busy": "2023-03-13T22:47:44.594349Z",
     "iopub.status.idle": "2023-03-13T22:47:44.619733Z",
     "shell.execute_reply": "2023-03-13T22:47:44.618654Z",
     "shell.execute_reply.started": "2023-03-13T22:47:44.595186Z"
    }
   },
   "outputs": [
    {
     "data": {
      "text/plain": [
       "0"
      ]
     },
     "execution_count": 103,
     "metadata": {},
     "output_type": "execute_result"
    }
   ],
   "source": [
    "df2.duplicated().sum()"
   ]
  },
  {
   "cell_type": "markdown",
   "metadata": {},
   "source": [
    "There are no duplicate values in this data set "
   ]
  },
  {
   "cell_type": "markdown",
   "metadata": {},
   "source": [
    "# Cleaning data"
   ]
  },
  {
   "cell_type": "code",
   "execution_count": 104,
   "metadata": {
    "execution": {
     "iopub.execute_input": "2023-03-13T22:47:44.621110Z",
     "iopub.status.busy": "2023-03-13T22:47:44.620775Z",
     "iopub.status.idle": "2023-03-13T22:47:44.635497Z",
     "shell.execute_reply": "2023-03-13T22:47:44.634231Z",
     "shell.execute_reply.started": "2023-03-13T22:47:44.621068Z"
    }
   },
   "outputs": [
    {
     "data": {
      "text/html": [
       "<div>\n",
       "<style scoped>\n",
       "    .dataframe tbody tr th:only-of-type {\n",
       "        vertical-align: middle;\n",
       "    }\n",
       "\n",
       "    .dataframe tbody tr th {\n",
       "        vertical-align: top;\n",
       "    }\n",
       "\n",
       "    .dataframe thead th {\n",
       "        text-align: right;\n",
       "    }\n",
       "</style>\n",
       "<table border=\"1\" class=\"dataframe\">\n",
       "  <thead>\n",
       "    <tr style=\"text-align: right;\">\n",
       "      <th></th>\n",
       "      <th>Order Number</th>\n",
       "      <th>Order Status</th>\n",
       "      <th>Book Name</th>\n",
       "      <th>Order Date &amp; Time</th>\n",
       "      <th>City</th>\n",
       "      <th>Payment Method</th>\n",
       "      <th>Total items</th>\n",
       "      <th>Total weight (grams)</th>\n",
       "    </tr>\n",
       "  </thead>\n",
       "  <tbody>\n",
       "    <tr>\n",
       "      <th>1</th>\n",
       "      <td>308</td>\n",
       "      <td>Completed</td>\n",
       "      <td>Kaggle for Begginers</td>\n",
       "      <td>10/3/2019 15:54</td>\n",
       "      <td>Rawalpindi</td>\n",
       "      <td>Cash on Delivery (COD)</td>\n",
       "      <td>1</td>\n",
       "      <td>200.0</td>\n",
       "    </tr>\n",
       "    <tr>\n",
       "      <th>2</th>\n",
       "      <td>309</td>\n",
       "      <td>Completed</td>\n",
       "      <td>Kaggle for Begginers/Bitcoin Blockchain aur Cr...</td>\n",
       "      <td>10/3/2019 16:09</td>\n",
       "      <td>Hyderabad</td>\n",
       "      <td>Cash on Delivery (COD)</td>\n",
       "      <td>2</td>\n",
       "      <td>200.0</td>\n",
       "    </tr>\n",
       "    <tr>\n",
       "      <th>3</th>\n",
       "      <td>310</td>\n",
       "      <td>Cancelled</td>\n",
       "      <td>Kaggle for Begginers</td>\n",
       "      <td>10/3/2019 16:42</td>\n",
       "      <td>Rawalpindi</td>\n",
       "      <td>Cash on Delivery (COD)</td>\n",
       "      <td>1</td>\n",
       "      <td>200.0</td>\n",
       "    </tr>\n",
       "    <tr>\n",
       "      <th>4</th>\n",
       "      <td>311</td>\n",
       "      <td>Completed</td>\n",
       "      <td>Bit Coin Block Chain aur Crypto Currency بٹ کو...</td>\n",
       "      <td>10/3/2019 16:44</td>\n",
       "      <td>Karachi</td>\n",
       "      <td>Cash on Delivery (COD)</td>\n",
       "      <td>1</td>\n",
       "      <td>200.0</td>\n",
       "    </tr>\n",
       "    <tr>\n",
       "      <th>5</th>\n",
       "      <td>312</td>\n",
       "      <td>Completed</td>\n",
       "      <td>Bit Coin Block Chain aur Crypto Currency بٹ کو...</td>\n",
       "      <td>10/3/2019 18:17</td>\n",
       "      <td>FSD</td>\n",
       "      <td>Cash on Delivery (COD)</td>\n",
       "      <td>5</td>\n",
       "      <td>200.0</td>\n",
       "    </tr>\n",
       "  </tbody>\n",
       "</table>\n",
       "</div>"
      ],
      "text/plain": [
       "   Order Number Order Status  \\\n",
       "1           308    Completed   \n",
       "2           309    Completed   \n",
       "3           310    Cancelled   \n",
       "4           311    Completed   \n",
       "5           312    Completed   \n",
       "\n",
       "                                           Book Name Order Date & Time  \\\n",
       "1                               Kaggle for Begginers   10/3/2019 15:54   \n",
       "2  Kaggle for Begginers/Bitcoin Blockchain aur Cr...   10/3/2019 16:09   \n",
       "3                               Kaggle for Begginers   10/3/2019 16:42   \n",
       "4  Bit Coin Block Chain aur Crypto Currency بٹ کو...   10/3/2019 16:44   \n",
       "5  Bit Coin Block Chain aur Crypto Currency بٹ کو...   10/3/2019 18:17   \n",
       "\n",
       "         City          Payment Method  Total items  Total weight (grams)  \n",
       "1  Rawalpindi  Cash on Delivery (COD)            1                 200.0  \n",
       "2   Hyderabad  Cash on Delivery (COD)            2                 200.0  \n",
       "3  Rawalpindi  Cash on Delivery (COD)            1                 200.0  \n",
       "4    Karachi   Cash on Delivery (COD)            1                 200.0  \n",
       "5         FSD  Cash on Delivery (COD)            5                 200.0  "
      ]
     },
     "execution_count": 104,
     "metadata": {},
     "output_type": "execute_result"
    }
   ],
   "source": [
    "df2.head()"
   ]
  },
  {
   "cell_type": "code",
   "execution_count": 105,
   "metadata": {
    "execution": {
     "iopub.execute_input": "2023-03-13T22:47:44.638426Z",
     "iopub.status.busy": "2023-03-13T22:47:44.637747Z",
     "iopub.status.idle": "2023-03-13T22:47:44.659561Z",
     "shell.execute_reply": "2023-03-13T22:47:44.658507Z",
     "shell.execute_reply.started": "2023-03-13T22:47:44.638386Z"
    }
   },
   "outputs": [
    {
     "data": {
      "text/html": [
       "<div>\n",
       "<style scoped>\n",
       "    .dataframe tbody tr th:only-of-type {\n",
       "        vertical-align: middle;\n",
       "    }\n",
       "\n",
       "    .dataframe tbody tr th {\n",
       "        vertical-align: top;\n",
       "    }\n",
       "\n",
       "    .dataframe thead th {\n",
       "        text-align: right;\n",
       "    }\n",
       "</style>\n",
       "<table border=\"1\" class=\"dataframe\">\n",
       "  <thead>\n",
       "    <tr style=\"text-align: right;\">\n",
       "      <th></th>\n",
       "      <th>Order Number</th>\n",
       "      <th>Order Status</th>\n",
       "      <th>Book Name</th>\n",
       "      <th>Order Date &amp; Time</th>\n",
       "      <th>City</th>\n",
       "      <th>Payment Method</th>\n",
       "      <th>Total items</th>\n",
       "      <th>Total weight (grams)</th>\n",
       "    </tr>\n",
       "  </thead>\n",
       "  <tbody>\n",
       "    <tr>\n",
       "      <th>1</th>\n",
       "      <td>308</td>\n",
       "      <td>Completed</td>\n",
       "      <td>Kaggle for Begginers</td>\n",
       "      <td>10/3/2019 15:54</td>\n",
       "      <td>Rawalpindi</td>\n",
       "      <td>Cash on Delivery (COD)</td>\n",
       "      <td>1</td>\n",
       "      <td>200.0</td>\n",
       "    </tr>\n",
       "    <tr>\n",
       "      <th>2</th>\n",
       "      <td>309</td>\n",
       "      <td>Completed</td>\n",
       "      <td>Kaggle for Begginers/Bitcoin Blockchain aur Cr...</td>\n",
       "      <td>10/3/2019 16:09</td>\n",
       "      <td>Hyderabad</td>\n",
       "      <td>Cash on Delivery (COD)</td>\n",
       "      <td>2</td>\n",
       "      <td>200.0</td>\n",
       "    </tr>\n",
       "    <tr>\n",
       "      <th>3</th>\n",
       "      <td>310</td>\n",
       "      <td>Cancelled</td>\n",
       "      <td>Kaggle for Begginers</td>\n",
       "      <td>10/3/2019 16:42</td>\n",
       "      <td>Rawalpindi</td>\n",
       "      <td>Cash on Delivery (COD)</td>\n",
       "      <td>1</td>\n",
       "      <td>200.0</td>\n",
       "    </tr>\n",
       "    <tr>\n",
       "      <th>4</th>\n",
       "      <td>311</td>\n",
       "      <td>Completed</td>\n",
       "      <td>Bit Coin Block Chain aur Crypto Currency بٹ کو...</td>\n",
       "      <td>10/3/2019 16:44</td>\n",
       "      <td>Karachi</td>\n",
       "      <td>Cash on Delivery (COD)</td>\n",
       "      <td>1</td>\n",
       "      <td>200.0</td>\n",
       "    </tr>\n",
       "    <tr>\n",
       "      <th>5</th>\n",
       "      <td>312</td>\n",
       "      <td>Completed</td>\n",
       "      <td>Bit Coin Block Chain aur Crypto Currency بٹ کو...</td>\n",
       "      <td>10/3/2019 18:17</td>\n",
       "      <td>FSD</td>\n",
       "      <td>Cash on Delivery (COD)</td>\n",
       "      <td>5</td>\n",
       "      <td>200.0</td>\n",
       "    </tr>\n",
       "  </tbody>\n",
       "</table>\n",
       "</div>"
      ],
      "text/plain": [
       "   Order Number Order Status  \\\n",
       "1           308    Completed   \n",
       "2           309    Completed   \n",
       "3           310    Cancelled   \n",
       "4           311    Completed   \n",
       "5           312    Completed   \n",
       "\n",
       "                                           Book Name Order Date & Time  \\\n",
       "1                               Kaggle for Begginers   10/3/2019 15:54   \n",
       "2  Kaggle for Begginers/Bitcoin Blockchain aur Cr...   10/3/2019 16:09   \n",
       "3                               Kaggle for Begginers   10/3/2019 16:42   \n",
       "4  Bit Coin Block Chain aur Crypto Currency بٹ کو...   10/3/2019 16:44   \n",
       "5  Bit Coin Block Chain aur Crypto Currency بٹ کو...   10/3/2019 18:17   \n",
       "\n",
       "         City          Payment Method  Total items  Total weight (grams)  \n",
       "1  Rawalpindi  Cash on Delivery (COD)            1                 200.0  \n",
       "2   Hyderabad  Cash on Delivery (COD)            2                 200.0  \n",
       "3  Rawalpindi  Cash on Delivery (COD)            1                 200.0  \n",
       "4    Karachi   Cash on Delivery (COD)            1                 200.0  \n",
       "5         FSD  Cash on Delivery (COD)            5                 200.0  "
      ]
     },
     "execution_count": 105,
     "metadata": {},
     "output_type": "execute_result"
    }
   ],
   "source": [
    "# Rename order number as it had some special characters.\n",
    "\n",
    "df2 = df2.rename({'ï»¿Order Number':'Order Number'}, axis=1)\n",
    "df2.head()"
   ]
  },
  {
   "cell_type": "markdown",
   "metadata": {},
   "source": [
    "# 1. Cleaning Book Name"
   ]
  },
  {
   "cell_type": "code",
   "execution_count": 106,
   "metadata": {
    "execution": {
     "iopub.execute_input": "2023-03-13T22:47:44.661494Z",
     "iopub.status.busy": "2023-03-13T22:47:44.661194Z",
     "iopub.status.idle": "2023-03-13T22:47:44.674602Z",
     "shell.execute_reply": "2023-03-13T22:47:44.673428Z",
     "shell.execute_reply.started": "2023-03-13T22:47:44.661468Z"
    }
   },
   "outputs": [
    {
     "data": {
      "text/plain": [
       "3518"
      ]
     },
     "execution_count": 106,
     "metadata": {},
     "output_type": "execute_result"
    }
   ],
   "source": [
    "#Let's see how many books we have\n",
    "\n",
    "df2['Book Name'].nunique()"
   ]
  },
  {
   "cell_type": "code",
   "execution_count": 107,
   "metadata": {
    "execution": {
     "iopub.execute_input": "2023-03-13T22:47:44.676067Z",
     "iopub.status.busy": "2023-03-13T22:47:44.675684Z",
     "iopub.status.idle": "2023-03-13T22:47:44.689299Z",
     "shell.execute_reply": "2023-03-13T22:47:44.688554Z",
     "shell.execute_reply.started": "2023-03-13T22:47:44.676027Z"
    }
   },
   "outputs": [],
   "source": [
    "book_names = {'ڈیٹا سائنس' : 'Data Science', 'ڈیٹا سائنس ۔ ایک تعارف': 'Data Science','انٹرنیٹ سے پیسہ کمائیں؟': 'Internet sy paisa kamayen',\n",
    "           'انٹرنیٹ سے پیسہ کمائیں': 'Internet sy paisa kamayen', 'Masnoi Zahanat': 'Artificial Intelligence',\n",
    "          'Bit Coin Block Chain aur Crypto Currency': 'Blockchain, Cryptocurrency And Bitcoin', '(C++)': 'C++',\n",
    "          '(C++) ++': 'C++', '(C++ ) ++': 'C++'}\n",
    "\n",
    "df2['Book Name'] = df2['Book Name'].replace(book_names)"
   ]
  },
  {
   "cell_type": "code",
   "execution_count": 108,
   "metadata": {
    "execution": {
     "iopub.execute_input": "2023-03-13T22:47:44.690895Z",
     "iopub.status.busy": "2023-03-13T22:47:44.690576Z",
     "iopub.status.idle": "2023-03-13T22:47:44.706559Z",
     "shell.execute_reply": "2023-03-13T22:47:44.705240Z",
     "shell.execute_reply.started": "2023-03-13T22:47:44.690864Z"
    }
   },
   "outputs": [
    {
     "data": {
      "text/plain": [
       "3514"
      ]
     },
     "execution_count": 108,
     "metadata": {},
     "output_type": "execute_result"
    }
   ],
   "source": [
    "df2['Book Name'].nunique()"
   ]
  },
  {
   "cell_type": "markdown",
   "metadata": {},
   "source": [
    "# 2. Cleaning city names"
   ]
  },
  {
   "cell_type": "code",
   "execution_count": 109,
   "metadata": {
    "execution": {
     "iopub.execute_input": "2023-03-13T22:47:44.707910Z",
     "iopub.status.busy": "2023-03-13T22:47:44.707584Z",
     "iopub.status.idle": "2023-03-13T22:47:44.716782Z",
     "shell.execute_reply": "2023-03-13T22:47:44.715575Z",
     "shell.execute_reply.started": "2023-03-13T22:47:44.707882Z"
    }
   },
   "outputs": [
    {
     "data": {
      "text/plain": [
       "4164"
      ]
     },
     "execution_count": 109,
     "metadata": {},
     "output_type": "execute_result"
    }
   ],
   "source": [
    "# checking how many unique values in city\n",
    "\n",
    "df2['City'].nunique()"
   ]
  },
  {
   "cell_type": "code",
   "execution_count": 110,
   "metadata": {
    "execution": {
     "iopub.execute_input": "2023-03-13T22:47:44.718077Z",
     "iopub.status.busy": "2023-03-13T22:47:44.717797Z",
     "iopub.status.idle": "2023-03-13T22:47:44.732424Z",
     "shell.execute_reply": "2023-03-13T22:47:44.730745Z",
     "shell.execute_reply.started": "2023-03-13T22:47:44.718053Z"
    }
   },
   "outputs": [
    {
     "data": {
      "text/plain": [
       "array(['Rawalpindi', 'Hyderabad', 'Karachi ', ...,\n",
       "       'tehsil Bhalwal District Sargodha', 'Clifton / Karachi',\n",
       "       'Mailsi, district Vehari'], dtype=object)"
      ]
     },
     "execution_count": 110,
     "metadata": {},
     "output_type": "execute_result"
    }
   ],
   "source": [
    "df2['City'].unique()"
   ]
  },
  {
   "cell_type": "code",
   "execution_count": 111,
   "metadata": {
    "execution": {
     "iopub.execute_input": "2023-03-13T22:47:44.734807Z",
     "iopub.status.busy": "2023-03-13T22:47:44.734432Z",
     "iopub.status.idle": "2023-03-13T22:47:44.747685Z",
     "shell.execute_reply": "2023-03-13T22:47:44.746620Z",
     "shell.execute_reply.started": "2023-03-13T22:47:44.734779Z"
    }
   },
   "outputs": [],
   "source": [
    "#changing city name into lower case\n",
    "\n",
    "df2['City'] = df2['City'].str.lower()"
   ]
  },
  {
   "cell_type": "code",
   "execution_count": 112,
   "metadata": {
    "execution": {
     "iopub.execute_input": "2023-03-13T22:47:44.749618Z",
     "iopub.status.busy": "2023-03-13T22:47:44.749201Z",
     "iopub.status.idle": "2023-03-13T22:47:44.762410Z",
     "shell.execute_reply": "2023-03-13T22:47:44.760984Z",
     "shell.execute_reply.started": "2023-03-13T22:47:44.749578Z"
    }
   },
   "outputs": [
    {
     "name": "stdout",
     "output_type": "stream",
     "text": [
      "False    19222\n",
      "True         4\n",
      "Name: City, dtype: int64\n"
     ]
    }
   ],
   "source": [
    "# spelling correction of karachi\n",
    "\n",
    "print((df2['City'] == 'karach').value_counts())\n",
    "\n",
    "df2['City'] = df2['City'].replace(['karach'],['karachi'])\n",
    "#replace them with correct spelling"
   ]
  },
  {
   "cell_type": "code",
   "execution_count": 113,
   "metadata": {
    "execution": {
     "iopub.execute_input": "2023-03-13T22:47:44.764506Z",
     "iopub.status.busy": "2023-03-13T22:47:44.764058Z",
     "iopub.status.idle": "2023-03-13T22:47:44.778849Z",
     "shell.execute_reply": "2023-03-13T22:47:44.777663Z",
     "shell.execute_reply.started": "2023-03-13T22:47:44.764467Z"
    }
   },
   "outputs": [
    {
     "data": {
      "text/plain": [
       "Index(['karachi', 'lahore', 'islamabad', 'rawalpindi', 'faisalabad',\n",
       "       'peshawar', 'multan', 'gujranwala', 'hyderabad', 'quetta',\n",
       "       ...\n",
       "       'azizabad, khi', 'scheme#33, gulzar-e-hijri karachi', 'pindi said pur',\n",
       "       'qasimabad hyderabada', 'raiwind 65 chak stop', 'dha lahore',\n",
       "       'basti machar wala thesil alipur', 'thana bula khan',\n",
       "       'mandi bhuddin punjab pakistan', 'mailsi, district vehari'],\n",
       "      dtype='object', length=3598)"
      ]
     },
     "execution_count": 113,
     "metadata": {},
     "output_type": "execute_result"
    }
   ],
   "source": [
    "df2.City.value_counts().index"
   ]
  },
  {
   "cell_type": "code",
   "execution_count": 114,
   "metadata": {
    "execution": {
     "iopub.execute_input": "2023-03-13T22:47:44.780954Z",
     "iopub.status.busy": "2023-03-13T22:47:44.780507Z",
     "iopub.status.idle": "2023-03-13T22:47:44.796982Z",
     "shell.execute_reply": "2023-03-13T22:47:44.795344Z",
     "shell.execute_reply.started": "2023-03-13T22:47:44.780919Z"
    }
   },
   "outputs": [],
   "source": [
    "\n",
    "# changing short name of cities into \n",
    "city_names = {'khi': 'karachi',\n",
    "                'lhr': 'lahore', \n",
    "                'isb': 'islamabad',\n",
    "                'fsd': 'faisalabad', \n",
    "                'hyd': 'hyderabad',\n",
    "                'dgk': 'dera ghazi khan', \n",
    "                'rwp': 'rawalpindi',\n",
    "                'wah cantt': 'rawalpindi'}\n",
    "df2['City'] = df2['City'].replace(city_names)\n",
    "\n"
   ]
  },
  {
   "cell_type": "code",
   "execution_count": 115,
   "metadata": {
    "execution": {
     "iopub.execute_input": "2023-03-13T22:47:44.799122Z",
     "iopub.status.busy": "2023-03-13T22:47:44.798721Z",
     "iopub.status.idle": "2023-03-13T22:47:44.819494Z",
     "shell.execute_reply": "2023-03-13T22:47:44.818502Z",
     "shell.execute_reply.started": "2023-03-13T22:47:44.799085Z"
    }
   },
   "outputs": [
    {
     "data": {
      "text/plain": [
       "array(['karachi', 'malir, karachi', 'bahria town karachi',\n",
       "       'district central/karachi', 'saudabad, malir, karachi',\n",
       "       'east karachi', 'gulzar e hijri ,karachi',\n",
       "       'abul hasan isphahani road, karachi', 'central/karachi',\n",
       "       'east/karachi', 'gulberg town/karachi',\n",
       "       'main nathional highway landhi karachi', 'south/ karachi',\n",
       "       'karachi east karachi', 'gulistan e johar, karachi',\n",
       "       'gadap town malir karachi',\n",
       "       'opposite ridge house, bath island, karachi',\n",
       "       'gulzarehijri karachi', 'central / karachi',\n",
       "       'bizerya lines near masjid hawaria behind regent plaza hotel karachi',\n",
       "       'district central karachi', 'west/karachi', 'sindh/karachi',\n",
       "       'malir/karachi', 'south/karachi', 'central karachi',\n",
       "       'east / karachi', 'abul hassan isphani road / karachi',\n",
       "       'east/ karachi', 'malir canot karachi', 'saddar, karachi',\n",
       "       'malir karachi', 'central district/karachi',\n",
       "       'distric malir karachi', 'north karachi, karachi',\n",
       "       'korangi, karachi', 'korangi karachi', 'civil lines, karachi',\n",
       "       'taiser town, karachi', 'block b north naimabad karachi',\n",
       "       'gulshan-e- iqbal town karachi', 'north nazimabad block h/karachi',\n",
       "       'north karachi', 'jamshed town , karachi', 'baldia town karachi',\n",
       "       'dha karachi', 'new chali karachi', 'surjani town north karachi',\n",
       "       'north nazimabad town / karachi', 'liaquatabad , karachi',\n",
       "       'liaquatabad/ karachi', 'north nazimabad, karachi',\n",
       "       'lyari town / karachi', 'gulberg town, karachi', 'site karachi',\n",
       "       'anda more,north karachi,karachi', 'buffer zone karachi',\n",
       "       'korangi road karachi', 'north nazimabad block n karachi',\n",
       "       'orangi town karachi', 'saeedabad 4b baldia town karachi',\n",
       "       'malir city karachi', 'korangi crossing / karachi',\n",
       "       'hub river road karachi', 'new karachi/karachi', 'lyari karachi',\n",
       "       'landhi karachi', 'sector 30a korangi crossing karachi',\n",
       "       'jamshed road#3 , karachi', 'gulshan e iqbal karachi',\n",
       "       'sir syed town/ karachi', 'newkarachi town/ karachi',\n",
       "       'north nazmabad karachi', 'north nazimabad h block/karachi',\n",
       "       'jamshed town / karachi', 'orangi town / karachi',\n",
       "       'keamari karachi', 'new karachi', 'clifton karachi',\n",
       "       'scheme#33, gulzar-e-hijri karachi',\n",
       "       'qayoum abad b area madrasa iqra shamshi mubeen karachi',\n",
       "       'gilberg town, karachi', 'sindh / karachi', 'jamshed town karachi',\n",
       "       'nazimabad no2 karachi',\n",
       "       'behind chase shopping centre, kashmir road, karachi',\n",
       "       'clifton/ karachi', 'quaidabad karachi',\n",
       "       'north nazimabad / karachi', 'shah faisal colony/ karachi',\n",
       "       'lyari town, karachi', 'north nazimabad karachi',\n",
       "       'grex madni colony mauripur hawksbay rd. karachi',\n",
       "       'jahangiria township malir ext near sokhio goath karachi',\n",
       "       'malircity,karachi', 'mosamyat /karachi',\n",
       "       'gulshan e maymar karachi', 'malir cantt karachi',\n",
       "       'bin qasim town karachi', 'gulshan e iqbal, karachi',\n",
       "       'north nazimabad/karachi', 'kemari karachi',\n",
       "       'gadap town ayub goth karachi', 'gulshane iqbal karachi',\n",
       "       'shah latif town karachi', 'lyari town karachi',\n",
       "       'landhi town karachi', 'qasba islamia colony no 2 karachi',\n",
       "       'mehrantown karachi', 'orangi town, karachi',\n",
       "       'orangi town/ karachi', 'gulshan iqbal city karachi',\n",
       "       'defence karachi', 'liaqutabad, karachi',\n",
       "       'korangi indsdarial area karachi', 'jamshaid town, karachi',\n",
       "       'gulstan joher karachi', 'gulshan iqbal block 10 karachi',\n",
       "       'baldia town / karachi', 'mehmoodabad,karachi',\n",
       "       'nazimabad, karachi', 'mehmoodabad karachi',\n",
       "       'gulshan-e-iqbal, karachi',\n",
       "       'jamal-e-ibrahim quadabad landhi karachi', 'bladia town karachi',\n",
       "       'north nazimabad town, karachi', 'gulberg town/ karachi',\n",
       "       'malir halt, karachi', 'p.i.b. colony, karachi',\n",
       "       'liaquatabad, karachi', 'gulshan-e-iqbal block 2, karachi',\n",
       "       'new saeed abad baldia town karachi', 'liyari karachi',\n",
       "       'gulistan-e-johar, karachi', 'gulistan e jauhar karachi',\n",
       "       'gulistan e juhar block 14 karachi', 'maymar karachi',\n",
       "       'baloch colony karachi', 'korangi no 4, karachi',\n",
       "       'g.johar karachi',\n",
       "       'office # 101 , 1st floor, c-6 , silver square , touheed commercial area , dha phase v , karachi',\n",
       "       'landhi/ karachi', 'malir town karachi',\n",
       "       'gulshan e iqbal near rab medical centre karachi',\n",
       "       'nazimabad no. 2 karachi', 'site town/karachi',\n",
       "       'site town karachi', 'shadman town. karachi', 'gadap karachi',\n",
       "       'liaquatabad karachi', 'gulshan e iqbal block 10 a, karachi',\n",
       "       'saadi town/karachi', 'lyari, karachi', 'clifton / karachi'],\n",
       "      dtype=object)"
      ]
     },
     "execution_count": 115,
     "metadata": {},
     "output_type": "execute_result"
    }
   ],
   "source": [
    "\n",
    "# finding areas of karachi and then replace all with karachi\n",
    "\n",
    "\n",
    "areas_karachi=df2['City'][df2['City'].str.endswith('karachi')].unique()\n",
    "areas_karachi"
   ]
  },
  {
   "cell_type": "markdown",
   "metadata": {},
   "source": [
    "Soo many different address from karachi.They will not plot properly. So, replace all with their city name only."
   ]
  },
  {
   "cell_type": "code",
   "execution_count": 116,
   "metadata": {
    "execution": {
     "iopub.execute_input": "2023-03-13T22:47:44.826087Z",
     "iopub.status.busy": "2023-03-13T22:47:44.825755Z",
     "iopub.status.idle": "2023-03-13T22:47:44.910355Z",
     "shell.execute_reply": "2023-03-13T22:47:44.908749Z",
     "shell.execute_reply.started": "2023-03-13T22:47:44.826058Z"
    }
   },
   "outputs": [
    {
     "data": {
      "text/plain": [
       "1                     rawalpindi\n",
       "2                      hyderabad\n",
       "3                     rawalpindi\n",
       "4                       karachi \n",
       "5                     faisalabad\n",
       "                  ...           \n",
       "19234                     lahore\n",
       "19235                     lahore\n",
       "19236                    larkana\n",
       "19237    mailsi, district vehari\n",
       "19238                     lahore\n",
       "Name: City, Length: 19226, dtype: object"
      ]
     },
     "execution_count": 116,
     "metadata": {},
     "output_type": "execute_result"
    }
   ],
   "source": [
    "# replace all areas of karachi with karachi\n",
    "df2['City'] = df2['City'].replace(areas_karachi,'karachi')\n",
    "df2['City']"
   ]
  },
  {
   "cell_type": "code",
   "execution_count": 117,
   "metadata": {
    "execution": {
     "iopub.execute_input": "2023-03-13T22:47:44.912671Z",
     "iopub.status.busy": "2023-03-13T22:47:44.912169Z",
     "iopub.status.idle": "2023-03-13T22:47:44.931156Z",
     "shell.execute_reply": "2023-03-13T22:47:44.929598Z",
     "shell.execute_reply.started": "2023-03-13T22:47:44.912627Z"
    }
   },
   "outputs": [
    {
     "data": {
      "text/plain": [
       "array(['karachi'], dtype=object)"
      ]
     },
     "execution_count": 117,
     "metadata": {},
     "output_type": "execute_result"
    }
   ],
   "source": [
    "# again checking unique values ends with karachi\n",
    "df2['City'][df2['City'].str.endswith('karachi')].unique()"
   ]
  },
  {
   "cell_type": "code",
   "execution_count": 118,
   "metadata": {
    "execution": {
     "iopub.execute_input": "2023-03-13T22:47:44.933482Z",
     "iopub.status.busy": "2023-03-13T22:47:44.933015Z",
     "iopub.status.idle": "2023-03-13T22:47:44.948834Z",
     "shell.execute_reply": "2023-03-13T22:47:44.947190Z",
     "shell.execute_reply.started": "2023-03-13T22:47:44.933451Z"
    }
   },
   "outputs": [
    {
     "data": {
      "text/plain": [
       "karachi       2939\n",
       "lahore        2192\n",
       "islamabad      948\n",
       "rawalpindi     773\n",
       "faisalabad     530\n",
       "peshawar       493\n",
       "multan         464\n",
       "gujranwala     278\n",
       "hyderabad      267\n",
       "quetta         252\n",
       "Name: City, dtype: int64"
      ]
     },
     "execution_count": 118,
     "metadata": {},
     "output_type": "execute_result"
    }
   ],
   "source": [
    "df2['City'].value_counts()[:10]           # top 10 cities with most selling books"
   ]
  },
  {
   "cell_type": "markdown",
   "metadata": {},
   "source": [
    "We can more clean city names with same process as we done with karachi.All the areas replace by their city names."
   ]
  },
  {
   "cell_type": "code",
   "execution_count": 119,
   "metadata": {
    "execution": {
     "iopub.execute_input": "2023-03-13T22:47:44.950628Z",
     "iopub.status.busy": "2023-03-13T22:47:44.950257Z",
     "iopub.status.idle": "2023-03-13T22:47:44.969788Z",
     "shell.execute_reply": "2023-03-13T22:47:44.968512Z",
     "shell.execute_reply.started": "2023-03-13T22:47:44.950600Z"
    }
   },
   "outputs": [
    {
     "data": {
      "text/plain": [
       "array(['islamabad', 'islamabad/ islamabad', 'i-8/4 islamabad',\n",
       "       'tarnol islamabad', 'e-9 paf paf complex islamabad',\n",
       "       'islamabad islamabad',\n",
       "       'bahria enclave weight station chak shahzad islamabad',\n",
       "       'bhara kahu / islamabad', 'margalla town, islamabad',\n",
       "       'rawal town, islamabad',\n",
       "       'street no 13, sector a, dha phase 1, islamabad',\n",
       "       'chirah islamabad', 'bhara khu / islamabad',\n",
       "       'bhara kahu islamabad', 'media town, islamabad',\n",
       "       'h_11 police line headquarters man gate islamabad',\n",
       "       'koral islamabad', 'bharakahu ,islamabad', 'model town islamabad',\n",
       "       'bhara kahu/ islamabad', 'sihala islamabad', 'barakao islamabad',\n",
       "       'jamia masjid zaraj opp giga mall islamabad',\n",
       "       'dha phase 2 islamabad',\n",
       "       'burma town,near main lethrar road ,islamabad',\n",
       "       'soan garden sector c islamabad',\n",
       "       'phase - 3 , bahria town. islamabad', 'i10/2 islamabad',\n",
       "       'sector h-8, islamabad', 'i-10/1 islamabad',\n",
       "       'l-ghousia,milk shop, main tramri market, tramri, islamabad',\n",
       "       'ghouri town, islamabad',\n",
       "       'statistical information unit, higher education commission, sector h-8, islamabad',\n",
       "       'banigala,islamabad', 'multi gardens islamabad',\n",
       "       'ali pur islamabad', 'main naseerabad bazar new bokra islamabad',\n",
       "       'pakistan town. islamabad', 'g11/2 islamabad', 'g-5/2, islamabad',\n",
       "       'navel inchareg islamabad', 'd-17, islamabad',\n",
       "       'rawalpindi /islamabad', 'ghouri town phase 5 islamabad',\n",
       "       'e11/2 islamabad', 'soan garden islamabad',\n",
       "       'karachi compny islamabad', 'f-7 markaz islamabad',\n",
       "       'irfanabad taramri chowk islamabad',\n",
       "       'victoria hights first floor flat 108 near sohan highway islamabad',\n",
       "       'sohan islamabad', 'cbr town, islamabad', 'bahria town islamabad',\n",
       "       'g-10/4 islamabad', 'g-8/1, islamabad', 'f-17/2 islamabad'],\n",
       "      dtype=object)"
      ]
     },
     "execution_count": 119,
     "metadata": {},
     "output_type": "execute_result"
    }
   ],
   "source": [
    "# finding areas of islamabad and then replace all with islamabad\n",
    "\n",
    "\n",
    "areas_islamabad=df2['City'][df2['City'].str.endswith('islamabad')].unique()\n",
    "areas_islamabad\n"
   ]
  },
  {
   "cell_type": "markdown",
   "metadata": {},
   "source": [
    "Soo many different address from islamabad.They will not plot properly. So, replace all with their city name only. "
   ]
  },
  {
   "cell_type": "code",
   "execution_count": 120,
   "metadata": {
    "execution": {
     "iopub.execute_input": "2023-03-13T22:47:44.971827Z",
     "iopub.status.busy": "2023-03-13T22:47:44.971414Z",
     "iopub.status.idle": "2023-03-13T22:47:45.020997Z",
     "shell.execute_reply": "2023-03-13T22:47:45.020021Z",
     "shell.execute_reply.started": "2023-03-13T22:47:44.971788Z"
    }
   },
   "outputs": [
    {
     "name": "stdout",
     "output_type": "stream",
     "text": [
      "1                     rawalpindi\n",
      "2                      hyderabad\n",
      "3                     rawalpindi\n",
      "4                       karachi \n",
      "5                     faisalabad\n",
      "                  ...           \n",
      "19234                     lahore\n",
      "19235                     lahore\n",
      "19236                    larkana\n",
      "19237    mailsi, district vehari\n",
      "19238                     lahore\n",
      "Name: City, Length: 19226, dtype: object \n",
      "\n",
      "\n",
      "\n"
     ]
    },
    {
     "data": {
      "text/plain": [
       "array(['islamabad'], dtype=object)"
      ]
     },
     "execution_count": 120,
     "metadata": {},
     "output_type": "execute_result"
    }
   ],
   "source": [
    "# replace all areas of islamabad with islamabad\n",
    "df2['City'] = df2['City'].replace(areas_islamabad,'islamabad')\n",
    "print(df2['City'],\"\\n\\n\\n\")\n",
    "\n",
    "# again checking unique values ends with islamabad\n",
    "df2['City'][df2['City'].str.endswith('islamabad')].unique()"
   ]
  },
  {
   "cell_type": "code",
   "execution_count": 121,
   "metadata": {
    "execution": {
     "iopub.execute_input": "2023-03-13T22:47:45.023035Z",
     "iopub.status.busy": "2023-03-13T22:47:45.022674Z",
     "iopub.status.idle": "2023-03-13T22:47:45.034705Z",
     "shell.execute_reply": "2023-03-13T22:47:45.033249Z",
     "shell.execute_reply.started": "2023-03-13T22:47:45.023008Z"
    }
   },
   "outputs": [
    {
     "data": {
      "text/plain": [
       "karachi       2939\n",
       "lahore        2192\n",
       "islamabad     1012\n",
       "rawalpindi     773\n",
       "faisalabad     530\n",
       "peshawar       493\n",
       "multan         464\n",
       "gujranwala     278\n",
       "hyderabad      267\n",
       "quetta         252\n",
       "Name: City, dtype: int64"
      ]
     },
     "execution_count": 121,
     "metadata": {},
     "output_type": "execute_result"
    }
   ],
   "source": [
    "df2['City'].value_counts()[:10]    "
   ]
  },
  {
   "cell_type": "markdown",
   "metadata": {},
   "source": [
    "As we observe that when we replace areas with their city names the count of islamabad changes.\n",
    "We can do it for all cities."
   ]
  },
  {
   "cell_type": "code",
   "execution_count": 122,
   "metadata": {
    "execution": {
     "iopub.execute_input": "2023-03-13T22:47:45.036792Z",
     "iopub.status.busy": "2023-03-13T22:47:45.036306Z",
     "iopub.status.idle": "2023-03-13T22:47:45.054695Z",
     "shell.execute_reply": "2023-03-13T22:47:45.053634Z",
     "shell.execute_reply.started": "2023-03-13T22:47:45.036759Z"
    }
   },
   "outputs": [
    {
     "data": {
      "text/plain": [
       "array(['lahore', 'bahria town, lahore', 'punjab / lahore',\n",
       "       'house 2-d, shane salam road, gulberg iii, lahore',\n",
       "       'shahdra lahore', 'afzal road, sanda kalan, lahore',\n",
       "       'raiwind road lahore', 'shalimar town lahore',\n",
       "       'iqbal avenue phase 3 / lahore', 'bhaikot raiwind lahore',\n",
       "       'maher town badian road lahore', 'allama iqbal town, lahore',\n",
       "       'icon valley, raiwind road,lahore', 'township lahore',\n",
       "       'faisal town lahore', 'eden value homes, main multan road, lahore',\n",
       "       'mustafa town wahdat road lahore', 'allama iqbal town lahore',\n",
       "       'mughalpura, lahore', 'overseas-b. bahria town. lahore',\n",
       "       'hassan town multan road lahore', 'mohlanwal multan road lahore',\n",
       "       'phase 4 dha, lahore', 'gulshane ravi lahore', 'shadbagh , lahore',\n",
       "       'rewaz garden, lahore', 'johar town lahore',\n",
       "       'baidian road , lahore', 'bahria orchard, lahore',\n",
       "       'bahria town lahore', 'abid rod, islam nagar ,walton, lahore',\n",
       "       'sabzazar lahore', 'raiwund lahore', 'dha lahore',\n",
       "       'kotli peer abdul rehman bgp, lahore', 'green town lahore',\n",
       "       'shadab colony lahore', 'gulberg 2 lahore',\n",
       "       'jalal park, mehmood road, sheikhupura road, shahdara, lahore',\n",
       "       'baghbanpura lahore', 'gulberg 3 lahore', 'saddar cantt/ lahore',\n",
       "       'paracha colony shahdara town lahore', 'sanda kalan, lahore',\n",
       "       'johar town, lahore', 'model town, lahore',\n",
       "       'q block extension model town. lahore', 'mall road, lahore',\n",
       "       'awan town/ lahore', 'shadhra lahore', 'faisal garden lahore',\n",
       "       'ferozpur road, lahore', 'gulistan colony mustafa abad lahore',\n",
       "       'raiwind lahore', 'shahdara lahore', 'riwind /lahore',\n",
       "       'central lahore', 'town ship lahore', 'shadara lahore',\n",
       "       'bakar mandi bund road lahore', 'sabza zar lahore',\n",
       "       'hamza town kahna lahore', 'shahdara town lahore',\n",
       "       'samanabad,lahore', 'iqball town lahore', 'manga mandi lahore',\n",
       "       'shalmar town /lahore', 'shahdra, lahore',\n",
       "       '2.5 km, off manga raiwind road manga mandi lahore',\n",
       "       'gulberg ii, lahore', 'thokar niaz bhaig lahore',\n",
       "       'pcsir staff society, lahore', 'hajveri town lahore',\n",
       "       'ali town,lahore', 'lahore cantt., lahore',\n",
       "       'feroz pur road lahore', 'ali raza abad, lahore',\n",
       "       'ferozpur road. lahore',\n",
       "       'nasheman e iqbal khayabn e jinnah road lahore',\n",
       "       'wahdat colony lahore', 'harbanspura lahore',\n",
       "       'bismillah housing scheme bata pur lahore',\n",
       "       'bhogiwal road, baghbanpura lahore',\n",
       "       'chaudhry park rashid road lahore', 'old muslim town lahore',\n",
       "       'chung, lahore', 'shahpur kanjraan, lahore',\n",
       "       'marghazar colony lahore', 'islampura (krishan nagar); lahore',\n",
       "       'shahdrah lahore', 'sabzazar, multan road,lahore',\n",
       "       'fazal colony near emco factory sheikhupura road lahore',\n",
       "       'agrics town, raiwand road lahore',\n",
       "       'ali raza abad 5km raiwind road lahore', 'kahna nau lahore',\n",
       "       'midel town lahore'], dtype=object)"
      ]
     },
     "execution_count": 122,
     "metadata": {},
     "output_type": "execute_result"
    }
   ],
   "source": [
    "# finding areas of lahore and then replace all with lahore\n",
    "\n",
    "\n",
    "areas_lahore=df2['City'][df2['City'].str.endswith('lahore')].unique()\n",
    "areas_lahore\n"
   ]
  },
  {
   "cell_type": "code",
   "execution_count": 123,
   "metadata": {
    "execution": {
     "iopub.execute_input": "2023-03-13T22:47:45.057145Z",
     "iopub.status.busy": "2023-03-13T22:47:45.056587Z",
     "iopub.status.idle": "2023-03-13T22:47:45.125502Z",
     "shell.execute_reply": "2023-03-13T22:47:45.124384Z",
     "shell.execute_reply.started": "2023-03-13T22:47:45.057099Z"
    }
   },
   "outputs": [
    {
     "name": "stdout",
     "output_type": "stream",
     "text": [
      "1                     rawalpindi\n",
      "2                      hyderabad\n",
      "3                     rawalpindi\n",
      "4                       karachi \n",
      "5                     faisalabad\n",
      "                  ...           \n",
      "19234                     lahore\n",
      "19235                     lahore\n",
      "19236                    larkana\n",
      "19237    mailsi, district vehari\n",
      "19238                     lahore\n",
      "Name: City, Length: 19226, dtype: object \n",
      "\n",
      "\n",
      "\n"
     ]
    },
    {
     "data": {
      "text/plain": [
       "array(['lahore'], dtype=object)"
      ]
     },
     "execution_count": 123,
     "metadata": {},
     "output_type": "execute_result"
    }
   ],
   "source": [
    "# replace all areas of lahore with lahore\n",
    "df2['City'] = df2['City'].replace(areas_lahore,'lahore')\n",
    "print(df2['City'],\"\\n\\n\\n\")\n",
    "\n",
    "# again checking unique values ends with lahore\n",
    "df2['City'][df2['City'].str.endswith('lahore')].unique()"
   ]
  },
  {
   "cell_type": "markdown",
   "metadata": {},
   "source": [
    "# **Top 10 cities with max orders.**"
   ]
  },
  {
   "cell_type": "code",
   "execution_count": 124,
   "metadata": {
    "execution": {
     "iopub.execute_input": "2023-03-13T22:47:45.127226Z",
     "iopub.status.busy": "2023-03-13T22:47:45.126878Z",
     "iopub.status.idle": "2023-03-13T22:47:45.137628Z",
     "shell.execute_reply": "2023-03-13T22:47:45.136853Z",
     "shell.execute_reply.started": "2023-03-13T22:47:45.127185Z"
    }
   },
   "outputs": [
    {
     "name": "stdout",
     "output_type": "stream",
     "text": [
      "karachi       2939\n",
      "lahore        2343\n",
      "islamabad     1012\n",
      "rawalpindi     773\n",
      "faisalabad     530\n",
      "peshawar       493\n",
      "multan         464\n",
      "gujranwala     278\n",
      "hyderabad      267\n",
      "quetta         252\n",
      "Name: City, dtype: int64\n"
     ]
    }
   ],
   "source": [
    "top_10cities= df2['City'].value_counts()[:10]  \n",
    "print(top_10cities)\n",
    "counts=top_10cities.values\n",
    "cities=top_10cities.index"
   ]
  },
  {
   "cell_type": "code",
   "execution_count": 125,
   "metadata": {
    "execution": {
     "iopub.execute_input": "2023-03-13T22:47:45.139125Z",
     "iopub.status.busy": "2023-03-13T22:47:45.138759Z",
     "iopub.status.idle": "2023-03-13T22:47:45.332443Z",
     "shell.execute_reply": "2023-03-13T22:47:45.330815Z",
     "shell.execute_reply.started": "2023-03-13T22:47:45.139096Z"
    }
   },
   "outputs": [
    {
     "data": {
      "image/png": "[encoded data removed]",
      "text/plain": [
       "<Figure size 640x480 with 1 Axes>"
      ]
     },
     "metadata": {},
     "output_type": "display_data"
    }
   ],
   "source": [
    "# plot top 10 cities here\n",
    "\n",
    "city_plot=sns.barplot(x=counts ,y=cities,width =0.6 ,)\n",
    "plt.title(\"Top 10 cities\")\n",
    "plt.show()\n",
    "\n"
   ]
  },
  {
   "cell_type": "markdown",
   "metadata": {},
   "source": [
    "# **Order status frequency**"
   ]
  },
  {
   "cell_type": "code",
   "execution_count": 126,
   "metadata": {
    "execution": {
     "iopub.execute_input": "2023-03-13T22:47:45.334878Z",
     "iopub.status.busy": "2023-03-13T22:47:45.334510Z",
     "iopub.status.idle": "2023-03-13T22:47:45.345941Z",
     "shell.execute_reply": "2023-03-13T22:47:45.344147Z",
     "shell.execute_reply.started": "2023-03-13T22:47:45.334848Z"
    }
   },
   "outputs": [
    {
     "data": {
      "text/plain": [
       "Index(['Completed', 'Returned', 'Cancelled'], dtype='object')"
      ]
     },
     "execution_count": 126,
     "metadata": {},
     "output_type": "execute_result"
    }
   ],
   "source": [
    "# checking order status\n",
    "\n",
    "order_values = df2['Order Status'].value_counts().index\n",
    "order_values"
   ]
  },
  {
   "cell_type": "code",
   "execution_count": 127,
   "metadata": {
    "execution": {
     "iopub.execute_input": "2023-03-13T22:47:45.348051Z",
     "iopub.status.busy": "2023-03-13T22:47:45.347742Z",
     "iopub.status.idle": "2023-03-13T22:47:45.358806Z",
     "shell.execute_reply": "2023-03-13T22:47:45.357617Z",
     "shell.execute_reply.started": "2023-03-13T22:47:45.348025Z"
    }
   },
   "outputs": [
    {
     "data": {
      "text/plain": [
       "Completed    17938\n",
       "Returned      1139\n",
       "Cancelled      149\n",
       "Name: Order Status, dtype: int64"
      ]
     },
     "execution_count": 127,
     "metadata": {},
     "output_type": "execute_result"
    }
   ],
   "source": [
    "order_status =df2['Order Status'].value_counts()\n",
    "order_status"
   ]
  },
  {
   "cell_type": "code",
   "execution_count": 128,
   "metadata": {
    "execution": {
     "iopub.execute_input": "2023-03-13T22:47:45.360707Z",
     "iopub.status.busy": "2023-03-13T22:47:45.360293Z",
     "iopub.status.idle": "2023-03-13T22:47:45.532737Z",
     "shell.execute_reply": "2023-03-13T22:47:45.531786Z",
     "shell.execute_reply.started": "2023-03-13T22:47:45.360670Z"
    }
   },
   "outputs": [
    {
     "data": {
      "text/plain": [
       "<AxesSubplot:xlabel='Order Status', ylabel='count'>"
      ]
     },
     "execution_count": 128,
     "metadata": {},
     "output_type": "execute_result"
    },
    {
     "data": {
      "image/png": "[encoded data removed]",
      "text/plain": [
       "<Figure size 640x480 with 1 Axes>"
      ]
     },
     "metadata": {},
     "output_type": "display_data"
    }
   ],
   "source": [
    "sns.countplot(x ='Order Status',order = order_values, data = df2)"
   ]
  },
  {
   "cell_type": "markdown",
   "metadata": {},
   "source": [
    "As, we can see that most of the orders are completed. Few of them are returned and minor are cancelled.\n"
   ]
  },
  {
   "cell_type": "code",
   "execution_count": 129,
   "metadata": {
    "execution": {
     "iopub.execute_input": "2023-03-13T22:47:45.534911Z",
     "iopub.status.busy": "2023-03-13T22:47:45.534596Z",
     "iopub.status.idle": "2023-03-13T22:47:45.640723Z",
     "shell.execute_reply": "2023-03-13T22:47:45.639904Z",
     "shell.execute_reply.started": "2023-03-13T22:47:45.534879Z"
    }
   },
   "outputs": [
    {
     "data": {
      "text/plain": [
       "([<matplotlib.patches.Wedge at 0x7fb013952b90>,\n",
       "  <matplotlib.patches.Wedge at 0x7fb013951310>,\n",
       "  <matplotlib.patches.Wedge at 0x7fb01394ed90>],\n",
       " [Text(-1.0757275873138992, 0.22980460807350617, 'Completed'),\n",
       "  Text(1.0698142235418364, -0.25592484660067283, 'Returned'),\n",
       "  Text(1.099673981979783, -0.026779345711349507, 'Cancelled')],\n",
       " [Text(-0.5867605021712177, 0.12534796804009427, '93.30%'),\n",
       "  Text(0.5835350310228198, -0.13959537087309426, '5.92%'),\n",
       "  Text(0.5998221719889725, -0.014606915842554274, '0.77%')])"
      ]
     },
     "execution_count": 129,
     "metadata": {},
     "output_type": "execute_result"
    },
    {
     "data": {
      "image/png": "[encoded data removed]",
      "text/plain": [
       "<Figure size 640x480 with 1 Axes>"
      ]
     },
     "metadata": {},
     "output_type": "display_data"
    }
   ],
   "source": [
    "# Order status frequency\n",
    "plt.pie(order_status, labels = order_values ,autopct = '%1.2f%%')"
   ]
  },
  {
   "cell_type": "markdown",
   "metadata": {},
   "source": [
    "# **Payment Method selected by people**"
   ]
  },
  {
   "cell_type": "code",
   "execution_count": 130,
   "metadata": {
    "execution": {
     "iopub.execute_input": "2023-03-13T22:47:45.645028Z",
     "iopub.status.busy": "2023-03-13T22:47:45.644539Z",
     "iopub.status.idle": "2023-03-13T22:47:45.658016Z",
     "shell.execute_reply": "2023-03-13T22:47:45.657268Z",
     "shell.execute_reply.started": "2023-03-13T22:47:45.645000Z"
    }
   },
   "outputs": [
    {
     "data": {
      "text/plain": [
       "Index(['Cash on delivery', 'EasyPaisa', 'JazzCash', 'BankTransfer'], dtype='object')"
      ]
     },
     "execution_count": 130,
     "metadata": {},
     "output_type": "execute_result"
    }
   ],
   "source": [
    "df2['Payment Method'].unique()    # checking unique \n",
    "\n",
    "df2['Payment Method'] = df2['Payment Method'].replace('Cash on Delivery (COD)','Cash on delivery') # replace\n",
    "pay_method=df2['Payment Method'].value_counts().index           # checking unique \n",
    "pay_method"
   ]
  },
  {
   "cell_type": "code",
   "execution_count": 131,
   "metadata": {
    "execution": {
     "iopub.execute_input": "2023-03-13T22:47:45.659681Z",
     "iopub.status.busy": "2023-03-13T22:47:45.659207Z",
     "iopub.status.idle": "2023-03-13T22:47:45.671659Z",
     "shell.execute_reply": "2023-03-13T22:47:45.670916Z",
     "shell.execute_reply.started": "2023-03-13T22:47:45.659652Z"
    }
   },
   "outputs": [
    {
     "data": {
      "text/plain": [
       "Cash on delivery    17477\n",
       "EasyPaisa             695\n",
       "JazzCash              596\n",
       "BankTransfer          458\n",
       "Name: Payment Method, dtype: int64"
      ]
     },
     "execution_count": 131,
     "metadata": {},
     "output_type": "execute_result"
    }
   ],
   "source": [
    "# order_cancel=df2[df2['Order Status'] == 'Cancelled']\n",
    "# order_cancel\n",
    "# (order_cancel['Payment Method'] == 'JazzCash').value_counts()\n",
    "\n",
    "pay_method_values= (df2['Payment Method']).value_counts()\n",
    "pay_method_values"
   ]
  },
  {
   "cell_type": "code",
   "execution_count": 132,
   "metadata": {
    "execution": {
     "iopub.execute_input": "2023-03-13T22:47:45.673822Z",
     "iopub.status.busy": "2023-03-13T22:47:45.672944Z",
     "iopub.status.idle": "2023-03-13T22:47:45.801493Z",
     "shell.execute_reply": "2023-03-13T22:47:45.800379Z",
     "shell.execute_reply.started": "2023-03-13T22:47:45.673790Z"
    }
   },
   "outputs": [
    {
     "data": {
      "text/html": [
       "<style type=\"text/css\">\n",
       "#T_f6451_row0_col0 {\n",
       "  width: 10em;\n",
       "  height: 80%;\n",
       "  background: linear-gradient(90deg,#d65f5f 100.0%, transparent 100.0%);\n",
       "}\n",
       "#T_f6451_row1_col0 {\n",
       "  width: 10em;\n",
       "  height: 80%;\n",
       "  background: linear-gradient(90deg,#d65f5f 1.4%, transparent 1.4%);\n",
       "}\n",
       "#T_f6451_row2_col0 {\n",
       "  width: 10em;\n",
       "  height: 80%;\n",
       "  background: linear-gradient(90deg,#d65f5f 0.8%, transparent 0.8%);\n",
       "}\n",
       "#T_f6451_row3_col0 {\n",
       "  width: 10em;\n",
       "  height: 80%;\n",
       "}\n",
       "</style>\n",
       "<table id=\"T_f6451_\">\n",
       "  <thead>\n",
       "    <tr>\n",
       "      <th class=\"blank level0\" >&nbsp;</th>\n",
       "      <th class=\"col_heading level0 col0\" >Payment Method</th>\n",
       "    </tr>\n",
       "  </thead>\n",
       "  <tbody>\n",
       "    <tr>\n",
       "      <th id=\"T_f6451_level0_row0\" class=\"row_heading level0 row0\" >Cash on delivery</th>\n",
       "      <td id=\"T_f6451_row0_col0\" class=\"data row0 col0\" >17477</td>\n",
       "    </tr>\n",
       "    <tr>\n",
       "      <th id=\"T_f6451_level0_row1\" class=\"row_heading level0 row1\" >EasyPaisa</th>\n",
       "      <td id=\"T_f6451_row1_col0\" class=\"data row1 col0\" >695</td>\n",
       "    </tr>\n",
       "    <tr>\n",
       "      <th id=\"T_f6451_level0_row2\" class=\"row_heading level0 row2\" >JazzCash</th>\n",
       "      <td id=\"T_f6451_row2_col0\" class=\"data row2 col0\" >596</td>\n",
       "    </tr>\n",
       "    <tr>\n",
       "      <th id=\"T_f6451_level0_row3\" class=\"row_heading level0 row3\" >BankTransfer</th>\n",
       "      <td id=\"T_f6451_row3_col0\" class=\"data row3 col0\" >458</td>\n",
       "    </tr>\n",
       "  </tbody>\n",
       "</table>\n"
      ],
      "text/plain": [
       "<pandas.io.formats.style.Styler at 0x7fb0139ba950>"
      ]
     },
     "execution_count": 132,
     "metadata": {},
     "output_type": "execute_result"
    },
    {
     "data": {
      "image/png": "[encoded data removed]",
      "text/plain": [
       "<Figure size 640x480 with 1 Axes>"
      ]
     },
     "metadata": {},
     "output_type": "display_data"
    }
   ],
   "source": [
    "explode = (0.1,0.1,0.5,0.09)\n",
    "plt.pie(pay_method_values , labels = pay_method ,autopct = '%1.2f%%' , explode = explode,startangle=30,pctdistance=0.6)\n",
    "\n",
    "pay_method_values.to_frame().style.bar()"
   ]
  },
  {
   "cell_type": "markdown",
   "metadata": {},
   "source": [
    "People usually prefer Cash on Delivery payment method."
   ]
  },
  {
   "cell_type": "code",
   "execution_count": 133,
   "metadata": {
    "execution": {
     "iopub.execute_input": "2023-03-13T22:47:45.803560Z",
     "iopub.status.busy": "2023-03-13T22:47:45.803192Z",
     "iopub.status.idle": "2023-03-13T22:47:45.807974Z",
     "shell.execute_reply": "2023-03-13T22:47:45.806897Z",
     "shell.execute_reply.started": "2023-03-13T22:47:45.803526Z"
    }
   },
   "outputs": [],
   "source": [
    "# order_cancel=df2[df2['Order Status'] == 'Cancelled']\n",
    "# order_cancel['Payment Method'].unique()\n",
    "# (order_cancel['Payment Method'] == 'JazzCash').value_counts()"
   ]
  },
  {
   "cell_type": "markdown",
   "metadata": {},
   "source": [
    "# **Hidden Pattern of returned orders.**"
   ]
  },
  {
   "cell_type": "code",
   "execution_count": 134,
   "metadata": {
    "execution": {
     "iopub.execute_input": "2023-03-13T22:47:45.809595Z",
     "iopub.status.busy": "2023-03-13T22:47:45.809272Z",
     "iopub.status.idle": "2023-03-13T22:47:45.835130Z",
     "shell.execute_reply": "2023-03-13T22:47:45.834383Z",
     "shell.execute_reply.started": "2023-03-13T22:47:45.809567Z"
    }
   },
   "outputs": [
    {
     "data": {
      "text/html": [
       "<div>\n",
       "<style scoped>\n",
       "    .dataframe tbody tr th:only-of-type {\n",
       "        vertical-align: middle;\n",
       "    }\n",
       "\n",
       "    .dataframe tbody tr th {\n",
       "        vertical-align: top;\n",
       "    }\n",
       "\n",
       "    .dataframe thead th {\n",
       "        text-align: right;\n",
       "    }\n",
       "</style>\n",
       "<table border=\"1\" class=\"dataframe\">\n",
       "  <thead>\n",
       "    <tr style=\"text-align: right;\">\n",
       "      <th></th>\n",
       "      <th>Order Number</th>\n",
       "      <th>Order Status</th>\n",
       "      <th>Book Name</th>\n",
       "      <th>Order Date &amp; Time</th>\n",
       "      <th>City</th>\n",
       "      <th>Payment Method</th>\n",
       "      <th>Total items</th>\n",
       "      <th>Total weight (grams)</th>\n",
       "    </tr>\n",
       "  </thead>\n",
       "  <tbody>\n",
       "    <tr>\n",
       "      <th>8737</th>\n",
       "      <td>55170</td>\n",
       "      <td>Returned</td>\n",
       "      <td>Blockchain, Cryptocurrency And Bitcoin</td>\n",
       "      <td>9/18/2020 10:55</td>\n",
       "      <td>hub city</td>\n",
       "      <td>EasyPaisa</td>\n",
       "      <td>101</td>\n",
       "      <td>55000.0</td>\n",
       "    </tr>\n",
       "    <tr>\n",
       "      <th>8862</th>\n",
       "      <td>55381</td>\n",
       "      <td>Completed</td>\n",
       "      <td>Tarzan or Deo Shahzada/Tarzan or Pariyon ka Ja...</td>\n",
       "      <td>9/20/2020 0:31</td>\n",
       "      <td>islamabad</td>\n",
       "      <td>BankTransfer</td>\n",
       "      <td>194</td>\n",
       "      <td>200.0</td>\n",
       "    </tr>\n",
       "    <tr>\n",
       "      <th>12261</th>\n",
       "      <td>60238</td>\n",
       "      <td>Returned</td>\n",
       "      <td>Internet sy paisa kamayen</td>\n",
       "      <td>11/12/2020 1:12</td>\n",
       "      <td>nawab shah</td>\n",
       "      <td>JazzCash</td>\n",
       "      <td>369</td>\n",
       "      <td>200.0</td>\n",
       "    </tr>\n",
       "    <tr>\n",
       "      <th>14046</th>\n",
       "      <td>63087</td>\n",
       "      <td>Returned</td>\n",
       "      <td>انٹرنیٹ سے پیسہ کمائیں/Breakthrough by Dr Jami...</td>\n",
       "      <td>11/29/2020 16:19</td>\n",
       "      <td>tuqtta</td>\n",
       "      <td>Cash on delivery</td>\n",
       "      <td>440</td>\n",
       "      <td>200.0</td>\n",
       "    </tr>\n",
       "    <tr>\n",
       "      <th>14260</th>\n",
       "      <td>63549</td>\n",
       "      <td>Returned</td>\n",
       "      <td>Blockchain, Cryptocurrency And Bitcoin</td>\n",
       "      <td>12/2/2020 18:26</td>\n",
       "      <td>waziristan agency</td>\n",
       "      <td>BankTransfer</td>\n",
       "      <td>150</td>\n",
       "      <td>7500.0</td>\n",
       "    </tr>\n",
       "    <tr>\n",
       "      <th>16001</th>\n",
       "      <td>66525</td>\n",
       "      <td>Returned</td>\n",
       "      <td>Internet sy paisa kamayen</td>\n",
       "      <td>12/27/2020 9:38</td>\n",
       "      <td>haifzabad</td>\n",
       "      <td>EasyPaisa</td>\n",
       "      <td>280</td>\n",
       "      <td>200.0</td>\n",
       "    </tr>\n",
       "    <tr>\n",
       "      <th>16857</th>\n",
       "      <td>67663</td>\n",
       "      <td>Returned</td>\n",
       "      <td>اجالوں کا سفر/Dasht e Wafa/Python Programming/...</td>\n",
       "      <td>1/2/2021 13:02</td>\n",
       "      <td>lahore</td>\n",
       "      <td>BankTransfer</td>\n",
       "      <td>100</td>\n",
       "      <td>36500.0</td>\n",
       "    </tr>\n",
       "    <tr>\n",
       "      <th>16861</th>\n",
       "      <td>67667</td>\n",
       "      <td>Returned</td>\n",
       "      <td>اجالوں کا سفر/Dasht e Wafa/Python Programming/...</td>\n",
       "      <td>1/2/2021 13:21</td>\n",
       "      <td>lahore</td>\n",
       "      <td>JazzCash</td>\n",
       "      <td>106</td>\n",
       "      <td>35600.0</td>\n",
       "    </tr>\n",
       "    <tr>\n",
       "      <th>16862</th>\n",
       "      <td>67668</td>\n",
       "      <td>Returned</td>\n",
       "      <td>اجالوں کا سفر/Dasht e Wafa/Python Programming/...</td>\n",
       "      <td>1/2/2021 13:22</td>\n",
       "      <td>lahore</td>\n",
       "      <td>JazzCash</td>\n",
       "      <td>106</td>\n",
       "      <td>34500.0</td>\n",
       "    </tr>\n",
       "    <tr>\n",
       "      <th>16863</th>\n",
       "      <td>67669</td>\n",
       "      <td>Completed</td>\n",
       "      <td>اجالوں کا سفر/Dasht e Wafa/Python Programming/...</td>\n",
       "      <td>1/2/2021 13:22</td>\n",
       "      <td>lahore</td>\n",
       "      <td>JazzCash</td>\n",
       "      <td>106</td>\n",
       "      <td>33800.0</td>\n",
       "    </tr>\n",
       "  </tbody>\n",
       "</table>\n",
       "</div>"
      ],
      "text/plain": [
       "       Order Number Order Status  \\\n",
       "8737          55170     Returned   \n",
       "8862          55381    Completed   \n",
       "12261         60238     Returned   \n",
       "14046         63087     Returned   \n",
       "14260         63549     Returned   \n",
       "16001         66525     Returned   \n",
       "16857         67663     Returned   \n",
       "16861         67667     Returned   \n",
       "16862         67668     Returned   \n",
       "16863         67669    Completed   \n",
       "\n",
       "                                               Book Name Order Date & Time  \\\n",
       "8737              Blockchain, Cryptocurrency And Bitcoin   9/18/2020 10:55   \n",
       "8862   Tarzan or Deo Shahzada/Tarzan or Pariyon ka Ja...    9/20/2020 0:31   \n",
       "12261                          Internet sy paisa kamayen   11/12/2020 1:12   \n",
       "14046  انٹرنیٹ سے پیسہ کمائیں/Breakthrough by Dr Jami...  11/29/2020 16:19   \n",
       "14260             Blockchain, Cryptocurrency And Bitcoin   12/2/2020 18:26   \n",
       "16001                          Internet sy paisa kamayen   12/27/2020 9:38   \n",
       "16857  اجالوں کا سفر/Dasht e Wafa/Python Programming/...    1/2/2021 13:02   \n",
       "16861  اجالوں کا سفر/Dasht e Wafa/Python Programming/...    1/2/2021 13:21   \n",
       "16862  اجالوں کا سفر/Dasht e Wafa/Python Programming/...    1/2/2021 13:22   \n",
       "16863  اجالوں کا سفر/Dasht e Wafa/Python Programming/...    1/2/2021 13:22   \n",
       "\n",
       "                    City    Payment Method  Total items  Total weight (grams)  \n",
       "8737            hub city         EasyPaisa          101               55000.0  \n",
       "8862           islamabad      BankTransfer          194                 200.0  \n",
       "12261         nawab shah          JazzCash          369                 200.0  \n",
       "14046             tuqtta  Cash on delivery          440                 200.0  \n",
       "14260  waziristan agency      BankTransfer          150                7500.0  \n",
       "16001          haifzabad         EasyPaisa          280                 200.0  \n",
       "16857             lahore      BankTransfer          100               36500.0  \n",
       "16861             lahore          JazzCash          106               35600.0  \n",
       "16862             lahore          JazzCash          106               34500.0  \n",
       "16863             lahore          JazzCash          106               33800.0  "
      ]
     },
     "execution_count": 134,
     "metadata": {},
     "output_type": "execute_result"
    }
   ],
   "source": [
    "# book ordered greater than 100 units\n",
    "\n",
    "above_100books=df2[df2['Total items'] > 99]\n",
    "above_100books\n",
    "\n",
    "#books ordered above than 100 units are mostly returned.\n",
    "\n"
   ]
  },
  {
   "cell_type": "markdown",
   "metadata": {},
   "source": [
    "# Observation"
   ]
  },
  {
   "cell_type": "markdown",
   "metadata": {},
   "source": [
    "Order above than 100 books are mostly returned.We can fix the limit on items order at a time to avoid returns in future."
   ]
  },
  {
   "cell_type": "code",
   "execution_count": 135,
   "metadata": {
    "execution": {
     "iopub.execute_input": "2023-03-13T22:47:45.836990Z",
     "iopub.status.busy": "2023-03-13T22:47:45.836490Z",
     "iopub.status.idle": "2023-03-13T22:47:45.857678Z",
     "shell.execute_reply": "2023-03-13T22:47:45.856608Z",
     "shell.execute_reply.started": "2023-03-13T22:47:45.836960Z"
    }
   },
   "outputs": [
    {
     "data": {
      "text/html": [
       "<div>\n",
       "<style scoped>\n",
       "    .dataframe tbody tr th:only-of-type {\n",
       "        vertical-align: middle;\n",
       "    }\n",
       "\n",
       "    .dataframe tbody tr th {\n",
       "        vertical-align: top;\n",
       "    }\n",
       "\n",
       "    .dataframe thead th {\n",
       "        text-align: right;\n",
       "    }\n",
       "</style>\n",
       "<table border=\"1\" class=\"dataframe\">\n",
       "  <thead>\n",
       "    <tr style=\"text-align: right;\">\n",
       "      <th></th>\n",
       "      <th>Order Status</th>\n",
       "      <th>Counts</th>\n",
       "    </tr>\n",
       "  </thead>\n",
       "  <tbody>\n",
       "    <tr>\n",
       "      <th>0</th>\n",
       "      <td>Completed</td>\n",
       "      <td>2</td>\n",
       "    </tr>\n",
       "    <tr>\n",
       "      <th>1</th>\n",
       "      <td>Returned</td>\n",
       "      <td>8</td>\n",
       "    </tr>\n",
       "  </tbody>\n",
       "</table>\n",
       "</div>"
      ],
      "text/plain": [
       "  Order Status  Counts\n",
       "0    Completed       2\n",
       "1     Returned       8"
      ]
     },
     "execution_count": 135,
     "metadata": {},
     "output_type": "execute_result"
    }
   ],
   "source": [
    "above_100=df2['Total items']>99\n",
    "\n",
    "return_reason =df2[df2['Total items']>99].groupby('Order Status').size().reset_index().rename(columns={0:'Counts'})\n",
    "return_reason"
   ]
  },
  {
   "cell_type": "code",
   "execution_count": 136,
   "metadata": {
    "execution": {
     "iopub.execute_input": "2023-03-13T22:47:45.859870Z",
     "iopub.status.busy": "2023-03-13T22:47:45.859542Z",
     "iopub.status.idle": "2023-03-13T22:47:46.001673Z",
     "shell.execute_reply": "2023-03-13T22:47:46.000594Z",
     "shell.execute_reply.started": "2023-03-13T22:47:45.859840Z"
    }
   },
   "outputs": [
    {
     "data": {
      "image/png": "[encoded data removed]",
      "text/plain": [
       "<Figure size 640x480 with 1 Axes>"
      ]
     },
     "metadata": {},
     "output_type": "display_data"
    }
   ],
   "source": [
    "sns.barplot(x='Order Status' , y = 'Counts'  , data = return_reason)\n",
    "plt.title(\"Orders above 100 books\")\n",
    "plt.show()"
   ]
  },
  {
   "cell_type": "markdown",
   "metadata": {},
   "source": [
    "# **Suggestion**"
   ]
  },
  {
   "cell_type": "markdown",
   "metadata": {},
   "source": [
    "So, we notice that 80% of the orders that are above than 100 items at a time are returned.\n",
    "To avoid returns , we can fix the limit of itmes ordered at a time."
   ]
  },
  {
   "cell_type": "markdown",
   "metadata": {},
   "source": [
    "# **Finding any specific book which is on returned.**"
   ]
  },
  {
   "cell_type": "markdown",
   "metadata": {},
   "source": [
    "# **Checking books which are completed returned and cancelled**"
   ]
  },
  {
   "cell_type": "code",
   "execution_count": 148,
   "metadata": {
    "execution": {
     "iopub.execute_input": "2023-03-13T22:51:46.365657Z",
     "iopub.status.busy": "2023-03-13T22:51:46.365291Z",
     "iopub.status.idle": "2023-03-13T22:51:46.380406Z",
     "shell.execute_reply": "2023-03-13T22:51:46.378918Z",
     "shell.execute_reply.started": "2023-03-13T22:51:46.365627Z"
    }
   },
   "outputs": [
    {
     "data": {
      "text/plain": [
       "Internet sy paisa kamayen                                                                                   389\n",
       "Python Programming                                                                                          104\n",
       "Blockchain, Cryptocurrency And Bitcoin                                                                       89\n",
       "Artificial Intelligence                                                                                      29\n",
       "Python Programming- Release Date: August 14, 2020                                                            26\n",
       "                                                                                                           ... \n",
       "Shaoor                                                                                                        1\n",
       "Armis Prohit/Adhoray Gunnah/Birth Stone/Kaghazi Qayamat/Black Feeder/JSP/KJB Headquarter/Muslim Currency      1\n",
       "انٹرنیٹ سے پیسہ کمائیں/ڈیٹا سائنس/Justju ka safar-1                                                           1\n",
       "انٹرنیٹ سے پیسہ کمائیں/Shaoor                                                                                 1\n",
       "انٹرنیٹ سے پیسہ کمائیں؟- مستحقین زکواة/Dasht e Wafa                                                           1\n",
       "Name: Book Name, Length: 249, dtype: int64"
      ]
     },
     "execution_count": 148,
     "metadata": {},
     "output_type": "execute_result"
    }
   ],
   "source": [
    "df2[df2['Order Status'] == 'Returned']['Book Name'].value_counts()"
   ]
  },
  {
   "cell_type": "code",
   "execution_count": 140,
   "metadata": {
    "execution": {
     "iopub.execute_input": "2023-03-13T22:47:46.048084Z",
     "iopub.status.busy": "2023-03-13T22:47:46.047486Z",
     "iopub.status.idle": "2023-03-13T22:47:46.067638Z",
     "shell.execute_reply": "2023-03-13T22:47:46.066700Z",
     "shell.execute_reply.started": "2023-03-13T22:47:46.048054Z"
    }
   },
   "outputs": [
    {
     "data": {
      "text/plain": [
       "Internet sy paisa kamayen                                                                                                                                  2187\n",
       "Python Programming                                                                                                                                         1436\n",
       "Product Management                                                                                                                                         1009\n",
       "Blockchain, Cryptocurrency And Bitcoin                                                                                                                      970\n",
       "Artificial Intelligence                                                                                                                                     883\n",
       "                                                                                                                                                           ... \n",
       "Black Hills/Black Head/Black Hawk/Black Face/Black Day/Black Crown/Bright Stone/Challenge Mission/Blood Hounds/Cyrus/Crossing Arrow/Dark Heart/Dark Eye       1\n",
       "Fogashay/Supreme Force/Top Section/Spargun/Top Shoot                                                                                                          1\n",
       "Andha Zulm/Aag he aag/Aadhi Bivi                                                                                                                              1\n",
       "21 Lessons for the 21st century/Dasht e Wafa                                                                                                                  1\n",
       "Linux - An Introduction/Python Programming/Kaggle for Begginers/Artificial Intelligence/ایک تھا الگورتھم/R ka Taaruf/مشین لرننگ                               1\n",
       "Name: Book Name, Length: 3375, dtype: int64"
      ]
     },
     "execution_count": 140,
     "metadata": {},
     "output_type": "execute_result"
    }
   ],
   "source": [
    "df2[df2['Order Status'] == 'Completed']['Book Name'].value_counts()"
   ]
  },
  {
   "cell_type": "code",
   "execution_count": 141,
   "metadata": {
    "execution": {
     "iopub.execute_input": "2023-03-13T22:47:46.070148Z",
     "iopub.status.busy": "2023-03-13T22:47:46.068897Z",
     "iopub.status.idle": "2023-03-13T22:47:46.083392Z",
     "shell.execute_reply": "2023-03-13T22:47:46.082262Z",
     "shell.execute_reply.started": "2023-03-13T22:47:46.070091Z"
    }
   },
   "outputs": [
    {
     "data": {
      "text/plain": [
       "Blockchain, Cryptocurrency And Bitcoin                                                                                                                                                                                                                                                                                                                                                                                                                                                                                                                                22\n",
       "Product Management                                                                                                                                                                                                                                                                                                                                                                                                                                                                                                                                                    20\n",
       "Data Science                                                                                                                                                                                                                                                                                                                                                                                                                                                                                                                                                          16\n",
       "Artificial Intelligence                                                                                                                                                                                                                                                                                                                                                                                                                                                                                                                                                9\n",
       "بلاک چین اور کرپٹو کرنسی                                                                                                                                                                                                                                                                                                                                                                                                                                                                                                                                               8\n",
       "Python Programming- Release Date: August 14, 2020                                                                                                                                                                                                                                                                                                                                                                                                                                                                                                                      6\n",
       "Justju ka safar-1                                                                                                                                                                                                                                                                                                                                                                                                                                                                                                                                                      4\n",
       "(C++) ++سی/سی                                                                                                                                                                                                                                                                                                                                                                                                                                                                                                                                                          4\n",
       "Aik Pagal ki Diary                                                                                                                                                                                                                                                                                                                                                                                                                                                                                                                                                     3\n",
       "Muslim Youth Science and Islam                                                                                                                                                                                                                                                                                                                                                                                                                                                                                                                                         3\n",
       "C++                                                                                                                                                                                                                                                                                                                                                                                                                                                                                                                                                                    3\n",
       "Artificial Intelligence/Blockchain, Cryptocurrency And Bitcoin                                                                                                                                                                                                                                                                                                                                                                                                                                                                                                         2\n",
       "Har Shaye Ka Nazria/Blockchain, Cryptocurrency And Bitcoin/Adhoray Gunnah/Aasan Falkiyaat/BARAY SAWALON KAY MUKHTASAR JAWAB/Dawat e Sang/Ghiza or Ghizayat/Gene or Genetic Engineering/Gene ayer/Book Band kamron ki Muhabbat                                                                                                                                                                                                                                                                                                                                          2\n",
       "Kaggle for Begginers/Introduction to Blockchain with Case Studies/Odyssey of Self/Corona                                                                                                                                                                                                                                                                                                                                                                                                                                                                               2\n",
       "Akhuwat Ka Safar                                                                                                                                                                                                                                                                                                                                                                                                                                                                                                                                                       2\n",
       "Bit Coin Block Chain aur Crypto Currency بٹ کوائن، بلاک چین اور کرپٹو کرنسی                                                                                                                                                                                                                                                                                                                                                                                                                                                                                            2\n",
       "Internet sy paisa kamayen                                                                                                                                                                                                                                                                                                                                                                                                                                                                                                                                              2\n",
       "Kaggle for Begginers                                                                                                                                                                                                                                                                                                                                                                                                                                                                                                                                                   2\n",
       "Justju ka safar-1/Shaoor/Molo Masali                                                                                                                                                                                                                                                                                                                                                                                                                                                                                                                                   1\n",
       "Aik thi laali aur aik tha kawwa aur dausry kahaniyan/Dasht e Wafa/Aadam Khor Wehshi: Maut Ka Taaqub (Book 18)/Adhoray Gunnah/Aladin ka charagh: bachchon ki alif laila/Ali Baba Chaalees Chor: Bachchon Ki Alif Laila (Illustrated)/Corona/Sihat o Salamti/Adaab Al Masajid/ALAIKUM BI SUNNATI/ASAN NAIKIAN/Hindustani Qaida/Piayary Nabi (SAW) ki piyari Sahibzadiyan/Islam Kia hy/Safar e Hajj/Istalahaat Dehi Muashariyat/ہیپاٹائٹس میں آپ تنہا نہیں/Pariyon ki Khaniyan/Surgery - 1 taruf/ایکسل/Muntakhib kalam yagana/sindbad jahaazi: bachchon ki alif laila     1\n",
       "R ka Taaruf  آر کا تعارف/(C++) ++سی/سی/Founders at Work/My Start-Up Life                                                                                                                                                                                                                                                                                                                                                                                                                                                                                               1\n",
       "Molo Masali                                                                                                                                                                                                                                                                                                                                                                                                                                                                                                                                                            1\n",
       "KITAB E UMEED                                                                                                                                                                                                                                                                                                                                                                                                                                                                                                                                                          1\n",
       "21 Lessons for the 21st century/ابن الوقت/Aik Pagal ki Diary/Apni Sogawar Beswaon ki Yadain/BAHAO                                                                                                                                                                                                                                                                                                                                                                                                                                                                      1\n",
       "21 Lessons for the 21st century/ابن الوقت/Aik Pagal ki Diary/Apni Sogawar Beswaon ki Yadain/BAHAO/Animal Form                                                                                                                                                                                                                                                                                                                                                                                                                                                          1\n",
       "Hazir Ghayab                                                                                                                                                                                                                                                                                                                                                                                                                                                                                                                                                           1\n",
       "Gosha e Tanhai                                                                                                                                                                                                                                                                                                                                                                                                                                                                                                                                                         1\n",
       "Bit Coin Block Chain aur Crypto Currency بٹ کوائن، بلاک چین اور کرپٹو کرنسی/Introduction to Blockchain with Case Studies/ڈیٹا سائنس ۔ ایک تعارف                                                                                                                                                                                                                                                                                                                                                                                                                        1\n",
       "Pashtu Zaban ki Tareekh/Hayat e Muhammad/Manaqib ibn e Arabi/Sultan Muhammad Fateh/LOST ISLAMIC HISTORY/Muslim Youth Science and Islam/TARIKH SALTANAT E USMANIA                                                                                                                                                                                                                                                                                                                                                                                                       1\n",
       "Bit Coin Block Chain aur Crypto Currency بٹ کوائن، بلاک چین اور کرپٹو کرنسی/ڈیٹا سائنس ۔ ایک تعارف                                                                                                                                                                                                                                                                                                                                                                                                                                                                     1\n",
       "Python Programming- Release Date: August 14, 2020/Artificial Intelligence                                                                                                                                                                                                                                                                                                                                                                                                                                                                                              1\n",
       "مشین لرننگ/ایک تھا الگورتھم/ڈیٹا سائنس/Python Programming/Artificial Intelligence/Ajaibaat E Farang                                                                                                                                                                                                                                                                                                                                                                                                                                                                    1\n",
       "Artificial Intelligence/Python Programming/Blockchain, Cryptocurrency And Bitcoin/ڈیٹا سائنس/مشین لرننگ/R ka Taaruf/Kaggle for Begginers/Linux - An Introduction/ایک تھا الگورتھم                                                                                                                                                                                                                                                                                                                                                                                      1\n",
       "Kamyab Log                                                                                                                                                                                                                                                                                                                                                                                                                                                                                                                                                             1\n",
       "Artificial Intelligence/Kaggle for Begginers/ڈیٹا سائنس                                                                                                                                                                                                                                                                                                                                                                                                                                                                                                                1\n",
       "Badan Boli                                                                                                                                                                                                                                                                                                                                                                                                                                                                                                                                                             1\n",
       "R ka Taaruf  آر کا تعارف                                                                                                                                                                                                                                                                                                                                                                                                                                                                                                                                               1\n",
       "R ka Taaruf                                                                                                                                                                                                                                                                                                                                                                                                                                                                                                                                                            1\n",
       "Artificial Intelligence/(C++)                                                                                                                                                                                                                                                                                                                                                                                                                                                                                                                                          1\n",
       "Artificial Intelligence/Masnoi Zahanat                                                                                                                                                                                                                                                                                                                                                                                                                                                                                                                                 1\n",
       "Gosha e Tanhai/Bacha or nashunama/Corona                                                                                                                                                                                                                                                                                                                                                                                                                                                                                                                               1\n",
       "Gosha e Tanhai/Corona                                                                                                                                                                                                                                                                                                                                                                                                                                                                                                                                                  1\n",
       "Artificial Intelligence/Product Management                                                                                                                                                                                                                                                                                                                                                                                                                                                                                                                             1\n",
       "Muslim Youth Science and Islam/Justju ka safar-1                                                                                                                                                                                                                                                                                                                                                                                                                                                                                                                       1\n",
       "R ka Taaruf/Data Science/Kaggle for Begginers                                                                                                                                                                                                                                                                                                                                                                                                                                                                                                                          1\n",
       "Ali Baba Chaalees Chor: Bachchon Ki Alif Laila (Illustrated)/Artificial Intelligence                                                                                                                                                                                                                                                                                                                                                                                                                                                                                   1\n",
       "(C++) ++سی/سی/ڈیٹا سائنس ۔ ایک تعارف                                                                                                                                                                                                                                                                                                                                                                                                                                                                                                                                   1\n",
       "ادھورے گناہ                                                                                                                                                                                                                                                                                                                                                                                                                                                                                                                                                            1\n",
       "Data Structures                                                                                                                                                                                                                                                                                                                                                                                                                                                                                                                                                        1\n",
       "ڈیٹا سائنس ۔ ایک تعارف/Kaggle for Begginers/Molo Masali - مولو مصلی/Shaoor شعور۔ علم سے آگہی کا سفر                                                                                                                                                                                                                                                                                                                                                                                                                                                                    1\n",
       "بلاک چین اور کرپٹو کرنسی/Corona/Adhoray Gunnah/AAP HAJJ KASAY KARAIN/Justju ka safar-1                                                                                                                                                                                                                                                                                                                                                                                                                                                                                 1\n",
       "Gateway to Serenity- The Karakoram Highway                                                                                                                                                                                                                                                                                                                                                                                                                                                                                                                             1\n",
       "ارطغرل غازی                                                                                                                                                                                                                                                                                                                                                                                                                                                                                                                                                            1\n",
       "A Brief History of Money/Artificial Intelligence/Blockchain, Cryptocurrency And Bitcoin/Kaggle for Begginers/Har Shaye Ka Nazria/Fear Management - A Spiritual Insight into Overcoming Your Fear/Hazir Ghayab                                                                                                                                                                                                                                                                                                                                                          1\n",
       "انٹرنیٹ سے پیسہ کمائیں/Teesra Kinara/Python Programming/R ka Taaruf/Aasan gharellu Ilaj/Aap aik maan hain/Adhoray Gunnah/Aik Pagal ki Diary/Apna Ghar Bachaye/Biotechnology/Blockchain, Cryptocurrency And Bitcoin/Fear Management - A Spiritual Insight into Overcoming Your Fear/Hamal Say Pedaysh Tak/Namaz main Khawateen ki Ghafaltain/Waqt ki Qeemat/Waqfa e Pareshani/بوسنیا پر کیا گذری؟/Iblees/Jeenay ka saleeqa/Khandani Nizam Aisy Bachayen/Lams Ki Chup/Madaam Curie/Rehmdilana Zindagi Guzarny k 12 usool/جینیس بذ یئے/خوف/رب چاہی                        1\n",
       "Name: Book Name, dtype: int64"
      ]
     },
     "execution_count": 141,
     "metadata": {},
     "output_type": "execute_result"
    }
   ],
   "source": [
    "df2[df2['Order Status'] == 'Cancelled']['Book Name'].value_counts()"
   ]
  },
  {
   "cell_type": "markdown",
   "metadata": {},
   "source": [
    "**Did not find any specific book or pattern.**"
   ]
  },
  {
   "cell_type": "markdown",
   "metadata": {},
   "source": [
    "# **Trying to find out cancellation reason.**"
   ]
  },
  {
   "cell_type": "code",
   "execution_count": 142,
   "metadata": {
    "execution": {
     "iopub.execute_input": "2023-03-13T22:47:46.084963Z",
     "iopub.status.busy": "2023-03-13T22:47:46.084498Z",
     "iopub.status.idle": "2023-03-13T22:47:46.095218Z",
     "shell.execute_reply": "2023-03-13T22:47:46.094373Z",
     "shell.execute_reply.started": "2023-03-13T22:47:46.084933Z"
    }
   },
   "outputs": [
    {
     "data": {
      "text/plain": [
       "Cash on delivery    52\n",
       "EasyPaisa           44\n",
       "JazzCash            34\n",
       "BankTransfer        19\n",
       "Name: Payment Method, dtype: int64"
      ]
     },
     "execution_count": 142,
     "metadata": {},
     "output_type": "execute_result"
    }
   ],
   "source": [
    "# order cancelled payment method\n",
    "df2[df2['Order Status'] == 'Cancelled']['Payment Method'].value_counts()"
   ]
  },
  {
   "cell_type": "code",
   "execution_count": 143,
   "metadata": {
    "execution": {
     "iopub.execute_input": "2023-03-13T22:47:46.096592Z",
     "iopub.status.busy": "2023-03-13T22:47:46.096275Z",
     "iopub.status.idle": "2023-03-13T22:47:46.122643Z",
     "shell.execute_reply": "2023-03-13T22:47:46.121251Z",
     "shell.execute_reply.started": "2023-03-13T22:47:46.096568Z"
    }
   },
   "outputs": [
    {
     "data": {
      "text/html": [
       "<div>\n",
       "<style scoped>\n",
       "    .dataframe tbody tr th:only-of-type {\n",
       "        vertical-align: middle;\n",
       "    }\n",
       "\n",
       "    .dataframe tbody tr th {\n",
       "        vertical-align: top;\n",
       "    }\n",
       "\n",
       "    .dataframe thead th {\n",
       "        text-align: right;\n",
       "    }\n",
       "</style>\n",
       "<table border=\"1\" class=\"dataframe\">\n",
       "  <thead>\n",
       "    <tr style=\"text-align: right;\">\n",
       "      <th></th>\n",
       "      <th>Order Number</th>\n",
       "      <th>Order Status</th>\n",
       "      <th>Book Name</th>\n",
       "      <th>Order Date &amp; Time</th>\n",
       "      <th>City</th>\n",
       "      <th>Payment Method</th>\n",
       "      <th>Total items</th>\n",
       "      <th>Total weight (grams)</th>\n",
       "    </tr>\n",
       "  </thead>\n",
       "  <tbody>\n",
       "    <tr>\n",
       "      <th>3</th>\n",
       "      <td>310</td>\n",
       "      <td>Cancelled</td>\n",
       "      <td>Kaggle for Begginers</td>\n",
       "      <td>10/3/2019 16:42</td>\n",
       "      <td>rawalpindi</td>\n",
       "      <td>Cash on delivery</td>\n",
       "      <td>1</td>\n",
       "      <td>200.0</td>\n",
       "    </tr>\n",
       "    <tr>\n",
       "      <th>28</th>\n",
       "      <td>3593</td>\n",
       "      <td>Cancelled</td>\n",
       "      <td>Bit Coin Block Chain aur Crypto Currency بٹ کو...</td>\n",
       "      <td>11/19/2019 22:55</td>\n",
       "      <td>riyadh</td>\n",
       "      <td>Cash on delivery</td>\n",
       "      <td>1</td>\n",
       "      <td>200.0</td>\n",
       "    </tr>\n",
       "    <tr>\n",
       "      <th>46</th>\n",
       "      <td>4275</td>\n",
       "      <td>Cancelled</td>\n",
       "      <td>Kamyab Log</td>\n",
       "      <td>12/5/2019 0:15</td>\n",
       "      <td>muridke sheikhupura</td>\n",
       "      <td>Cash on delivery</td>\n",
       "      <td>1</td>\n",
       "      <td>200.0</td>\n",
       "    </tr>\n",
       "    <tr>\n",
       "      <th>80</th>\n",
       "      <td>5062</td>\n",
       "      <td>Cancelled</td>\n",
       "      <td>Data Science</td>\n",
       "      <td>12/20/2019 19:52</td>\n",
       "      <td>faisalabad</td>\n",
       "      <td>Cash on delivery</td>\n",
       "      <td>1</td>\n",
       "      <td>600.0</td>\n",
       "    </tr>\n",
       "    <tr>\n",
       "      <th>107</th>\n",
       "      <td>5126</td>\n",
       "      <td>Cancelled</td>\n",
       "      <td>Data Science</td>\n",
       "      <td>12/20/2019 20:43</td>\n",
       "      <td>seri iskander</td>\n",
       "      <td>Cash on delivery</td>\n",
       "      <td>1</td>\n",
       "      <td>600.0</td>\n",
       "    </tr>\n",
       "    <tr>\n",
       "      <th>...</th>\n",
       "      <td>...</td>\n",
       "      <td>...</td>\n",
       "      <td>...</td>\n",
       "      <td>...</td>\n",
       "      <td>...</td>\n",
       "      <td>...</td>\n",
       "      <td>...</td>\n",
       "      <td>...</td>\n",
       "    </tr>\n",
       "    <tr>\n",
       "      <th>19161</th>\n",
       "      <td>70933</td>\n",
       "      <td>Cancelled</td>\n",
       "      <td>Artificial Intelligence/Python Programming/Blo...</td>\n",
       "      <td>1/19/2021 12:38</td>\n",
       "      <td>gagoo mandi tehsil burewala district vehari</td>\n",
       "      <td>EasyPaisa</td>\n",
       "      <td>9</td>\n",
       "      <td>500.0</td>\n",
       "    </tr>\n",
       "    <tr>\n",
       "      <th>19162</th>\n",
       "      <td>70934</td>\n",
       "      <td>Cancelled</td>\n",
       "      <td>Internet sy paisa kamayen</td>\n",
       "      <td>1/19/2021 13:21</td>\n",
       "      <td>karachi</td>\n",
       "      <td>JazzCash</td>\n",
       "      <td>1</td>\n",
       "      <td>200.0</td>\n",
       "    </tr>\n",
       "    <tr>\n",
       "      <th>19181</th>\n",
       "      <td>70962</td>\n",
       "      <td>Cancelled</td>\n",
       "      <td>Internet sy paisa kamayen</td>\n",
       "      <td>1/20/2021 13:37</td>\n",
       "      <td>karachi</td>\n",
       "      <td>EasyPaisa</td>\n",
       "      <td>1</td>\n",
       "      <td>200.0</td>\n",
       "    </tr>\n",
       "    <tr>\n",
       "      <th>19185</th>\n",
       "      <td>70994</td>\n",
       "      <td>Cancelled</td>\n",
       "      <td>Artificial Intelligence/Kaggle for Begginers/ڈ...</td>\n",
       "      <td>1/20/2021 20:31</td>\n",
       "      <td>multan</td>\n",
       "      <td>BankTransfer</td>\n",
       "      <td>3</td>\n",
       "      <td>400.0</td>\n",
       "    </tr>\n",
       "    <tr>\n",
       "      <th>19226</th>\n",
       "      <td>71162</td>\n",
       "      <td>Cancelled</td>\n",
       "      <td>انٹرنیٹ سے پیسہ کمائیں/Teesra Kinara/Python Pr...</td>\n",
       "      <td>1/23/2021 23:33</td>\n",
       "      <td>faisalabad</td>\n",
       "      <td>Cash on delivery</td>\n",
       "      <td>26</td>\n",
       "      <td>500.0</td>\n",
       "    </tr>\n",
       "  </tbody>\n",
       "</table>\n",
       "<p>149 rows × 8 columns</p>\n",
       "</div>"
      ],
      "text/plain": [
       "       Order Number Order Status  \\\n",
       "3               310    Cancelled   \n",
       "28             3593    Cancelled   \n",
       "46             4275    Cancelled   \n",
       "80             5062    Cancelled   \n",
       "107            5126    Cancelled   \n",
       "...             ...          ...   \n",
       "19161         70933    Cancelled   \n",
       "19162         70934    Cancelled   \n",
       "19181         70962    Cancelled   \n",
       "19185         70994    Cancelled   \n",
       "19226         71162    Cancelled   \n",
       "\n",
       "                                               Book Name Order Date & Time  \\\n",
       "3                                   Kaggle for Begginers   10/3/2019 16:42   \n",
       "28     Bit Coin Block Chain aur Crypto Currency بٹ کو...  11/19/2019 22:55   \n",
       "46                                            Kamyab Log    12/5/2019 0:15   \n",
       "80                                          Data Science  12/20/2019 19:52   \n",
       "107                                         Data Science  12/20/2019 20:43   \n",
       "...                                                  ...               ...   \n",
       "19161  Artificial Intelligence/Python Programming/Blo...   1/19/2021 12:38   \n",
       "19162                          Internet sy paisa kamayen   1/19/2021 13:21   \n",
       "19181                          Internet sy paisa kamayen   1/20/2021 13:37   \n",
       "19185  Artificial Intelligence/Kaggle for Begginers/ڈ...   1/20/2021 20:31   \n",
       "19226  انٹرنیٹ سے پیسہ کمائیں/Teesra Kinara/Python Pr...   1/23/2021 23:33   \n",
       "\n",
       "                                              City    Payment Method  \\\n",
       "3                                       rawalpindi  Cash on delivery   \n",
       "28                                          riyadh  Cash on delivery   \n",
       "46                             muridke sheikhupura  Cash on delivery   \n",
       "80                                      faisalabad  Cash on delivery   \n",
       "107                                  seri iskander  Cash on delivery   \n",
       "...                                            ...               ...   \n",
       "19161  gagoo mandi tehsil burewala district vehari         EasyPaisa   \n",
       "19162                                      karachi          JazzCash   \n",
       "19181                                      karachi         EasyPaisa   \n",
       "19185                                       multan      BankTransfer   \n",
       "19226                                   faisalabad  Cash on delivery   \n",
       "\n",
       "       Total items  Total weight (grams)  \n",
       "3                1                 200.0  \n",
       "28               1                 200.0  \n",
       "46               1                 200.0  \n",
       "80               1                 600.0  \n",
       "107              1                 600.0  \n",
       "...            ...                   ...  \n",
       "19161            9                 500.0  \n",
       "19162            1                 200.0  \n",
       "19181            1                 200.0  \n",
       "19185            3                 400.0  \n",
       "19226           26                 500.0  \n",
       "\n",
       "[149 rows x 8 columns]"
      ]
     },
     "execution_count": 143,
     "metadata": {},
     "output_type": "execute_result"
    }
   ],
   "source": [
    "#lets merge all online payment to adv payment \n",
    "cancelled_orders = df2[df2['Order Status'] == 'Cancelled']\n",
    "cancelled_orders"
   ]
  },
  {
   "cell_type": "code",
   "execution_count": 149,
   "metadata": {
    "execution": {
     "iopub.execute_input": "2023-03-13T22:53:43.147626Z",
     "iopub.status.busy": "2023-03-13T22:53:43.147185Z",
     "iopub.status.idle": "2023-03-13T22:53:43.168166Z",
     "shell.execute_reply": "2023-03-13T22:53:43.166787Z",
     "shell.execute_reply.started": "2023-03-13T22:53:43.147592Z"
    }
   },
   "outputs": [
    {
     "name": "stderr",
     "output_type": "stream",
     "text": [
      "/opt/conda/lib/python3.7/site-packages/ipykernel_launcher.py:3: SettingWithCopyWarning: \n",
      "A value is trying to be set on a copy of a slice from a DataFrame.\n",
      "Try using .loc[row_indexer,col_indexer] = value instead\n",
      "\n",
      "See the caveats in the documentation: https://pandas.pydata.org/pandas-docs/stable/user_guide/indexing.html#returning-a-view-versus-a-copy\n",
      "  This is separate from the ipykernel package so we can avoid doing imports until\n"
     ]
    },
    {
     "data": {
      "text/html": [
       "<div>\n",
       "<style scoped>\n",
       "    .dataframe tbody tr th:only-of-type {\n",
       "        vertical-align: middle;\n",
       "    }\n",
       "\n",
       "    .dataframe tbody tr th {\n",
       "        vertical-align: top;\n",
       "    }\n",
       "\n",
       "    .dataframe thead th {\n",
       "        text-align: right;\n",
       "    }\n",
       "</style>\n",
       "<table border=\"1\" class=\"dataframe\">\n",
       "  <thead>\n",
       "    <tr style=\"text-align: right;\">\n",
       "      <th></th>\n",
       "      <th>Order Number</th>\n",
       "      <th>Order Status</th>\n",
       "      <th>Book Name</th>\n",
       "      <th>Order Date &amp; Time</th>\n",
       "      <th>City</th>\n",
       "      <th>Payment Method</th>\n",
       "      <th>Total items</th>\n",
       "      <th>Total weight (grams)</th>\n",
       "    </tr>\n",
       "  </thead>\n",
       "  <tbody>\n",
       "    <tr>\n",
       "      <th>3</th>\n",
       "      <td>310</td>\n",
       "      <td>Cancelled</td>\n",
       "      <td>Kaggle for Begginers</td>\n",
       "      <td>10/3/2019 16:42</td>\n",
       "      <td>rawalpindi</td>\n",
       "      <td>Cash on delivery</td>\n",
       "      <td>1</td>\n",
       "      <td>200.0</td>\n",
       "    </tr>\n",
       "    <tr>\n",
       "      <th>28</th>\n",
       "      <td>3593</td>\n",
       "      <td>Cancelled</td>\n",
       "      <td>Bit Coin Block Chain aur Crypto Currency بٹ کو...</td>\n",
       "      <td>11/19/2019 22:55</td>\n",
       "      <td>riyadh</td>\n",
       "      <td>Cash on delivery</td>\n",
       "      <td>1</td>\n",
       "      <td>200.0</td>\n",
       "    </tr>\n",
       "    <tr>\n",
       "      <th>46</th>\n",
       "      <td>4275</td>\n",
       "      <td>Cancelled</td>\n",
       "      <td>Kamyab Log</td>\n",
       "      <td>12/5/2019 0:15</td>\n",
       "      <td>muridke sheikhupura</td>\n",
       "      <td>Cash on delivery</td>\n",
       "      <td>1</td>\n",
       "      <td>200.0</td>\n",
       "    </tr>\n",
       "    <tr>\n",
       "      <th>80</th>\n",
       "      <td>5062</td>\n",
       "      <td>Cancelled</td>\n",
       "      <td>Data Science</td>\n",
       "      <td>12/20/2019 19:52</td>\n",
       "      <td>faisalabad</td>\n",
       "      <td>Cash on delivery</td>\n",
       "      <td>1</td>\n",
       "      <td>600.0</td>\n",
       "    </tr>\n",
       "    <tr>\n",
       "      <th>107</th>\n",
       "      <td>5126</td>\n",
       "      <td>Cancelled</td>\n",
       "      <td>Data Science</td>\n",
       "      <td>12/20/2019 20:43</td>\n",
       "      <td>seri iskander</td>\n",
       "      <td>Cash on delivery</td>\n",
       "      <td>1</td>\n",
       "      <td>600.0</td>\n",
       "    </tr>\n",
       "    <tr>\n",
       "      <th>...</th>\n",
       "      <td>...</td>\n",
       "      <td>...</td>\n",
       "      <td>...</td>\n",
       "      <td>...</td>\n",
       "      <td>...</td>\n",
       "      <td>...</td>\n",
       "      <td>...</td>\n",
       "      <td>...</td>\n",
       "    </tr>\n",
       "    <tr>\n",
       "      <th>19161</th>\n",
       "      <td>70933</td>\n",
       "      <td>Cancelled</td>\n",
       "      <td>Artificial Intelligence/Python Programming/Blo...</td>\n",
       "      <td>1/19/2021 12:38</td>\n",
       "      <td>gagoo mandi tehsil burewala district vehari</td>\n",
       "      <td>Adv payment</td>\n",
       "      <td>9</td>\n",
       "      <td>500.0</td>\n",
       "    </tr>\n",
       "    <tr>\n",
       "      <th>19162</th>\n",
       "      <td>70934</td>\n",
       "      <td>Cancelled</td>\n",
       "      <td>Internet sy paisa kamayen</td>\n",
       "      <td>1/19/2021 13:21</td>\n",
       "      <td>karachi</td>\n",
       "      <td>Adv payment</td>\n",
       "      <td>1</td>\n",
       "      <td>200.0</td>\n",
       "    </tr>\n",
       "    <tr>\n",
       "      <th>19181</th>\n",
       "      <td>70962</td>\n",
       "      <td>Cancelled</td>\n",
       "      <td>Internet sy paisa kamayen</td>\n",
       "      <td>1/20/2021 13:37</td>\n",
       "      <td>karachi</td>\n",
       "      <td>Adv payment</td>\n",
       "      <td>1</td>\n",
       "      <td>200.0</td>\n",
       "    </tr>\n",
       "    <tr>\n",
       "      <th>19185</th>\n",
       "      <td>70994</td>\n",
       "      <td>Cancelled</td>\n",
       "      <td>Artificial Intelligence/Kaggle for Begginers/ڈ...</td>\n",
       "      <td>1/20/2021 20:31</td>\n",
       "      <td>multan</td>\n",
       "      <td>Adv payment</td>\n",
       "      <td>3</td>\n",
       "      <td>400.0</td>\n",
       "    </tr>\n",
       "    <tr>\n",
       "      <th>19226</th>\n",
       "      <td>71162</td>\n",
       "      <td>Cancelled</td>\n",
       "      <td>انٹرنیٹ سے پیسہ کمائیں/Teesra Kinara/Python Pr...</td>\n",
       "      <td>1/23/2021 23:33</td>\n",
       "      <td>faisalabad</td>\n",
       "      <td>Cash on delivery</td>\n",
       "      <td>26</td>\n",
       "      <td>500.0</td>\n",
       "    </tr>\n",
       "  </tbody>\n",
       "</table>\n",
       "<p>149 rows × 8 columns</p>\n",
       "</div>"
      ],
      "text/plain": [
       "       Order Number Order Status  \\\n",
       "3               310    Cancelled   \n",
       "28             3593    Cancelled   \n",
       "46             4275    Cancelled   \n",
       "80             5062    Cancelled   \n",
       "107            5126    Cancelled   \n",
       "...             ...          ...   \n",
       "19161         70933    Cancelled   \n",
       "19162         70934    Cancelled   \n",
       "19181         70962    Cancelled   \n",
       "19185         70994    Cancelled   \n",
       "19226         71162    Cancelled   \n",
       "\n",
       "                                               Book Name Order Date & Time  \\\n",
       "3                                   Kaggle for Begginers   10/3/2019 16:42   \n",
       "28     Bit Coin Block Chain aur Crypto Currency بٹ کو...  11/19/2019 22:55   \n",
       "46                                            Kamyab Log    12/5/2019 0:15   \n",
       "80                                          Data Science  12/20/2019 19:52   \n",
       "107                                         Data Science  12/20/2019 20:43   \n",
       "...                                                  ...               ...   \n",
       "19161  Artificial Intelligence/Python Programming/Blo...   1/19/2021 12:38   \n",
       "19162                          Internet sy paisa kamayen   1/19/2021 13:21   \n",
       "19181                          Internet sy paisa kamayen   1/20/2021 13:37   \n",
       "19185  Artificial Intelligence/Kaggle for Begginers/ڈ...   1/20/2021 20:31   \n",
       "19226  انٹرنیٹ سے پیسہ کمائیں/Teesra Kinara/Python Pr...   1/23/2021 23:33   \n",
       "\n",
       "                                              City    Payment Method  \\\n",
       "3                                       rawalpindi  Cash on delivery   \n",
       "28                                          riyadh  Cash on delivery   \n",
       "46                             muridke sheikhupura  Cash on delivery   \n",
       "80                                      faisalabad  Cash on delivery   \n",
       "107                                  seri iskander  Cash on delivery   \n",
       "...                                            ...               ...   \n",
       "19161  gagoo mandi tehsil burewala district vehari       Adv payment   \n",
       "19162                                      karachi       Adv payment   \n",
       "19181                                      karachi       Adv payment   \n",
       "19185                                       multan       Adv payment   \n",
       "19226                                   faisalabad  Cash on delivery   \n",
       "\n",
       "       Total items  Total weight (grams)  \n",
       "3                1                 200.0  \n",
       "28               1                 200.0  \n",
       "46               1                 200.0  \n",
       "80               1                 600.0  \n",
       "107              1                 600.0  \n",
       "...            ...                   ...  \n",
       "19161            9                 500.0  \n",
       "19162            1                 200.0  \n",
       "19181            1                 200.0  \n",
       "19185            3                 400.0  \n",
       "19226           26                 500.0  \n",
       "\n",
       "[149 rows x 8 columns]"
      ]
     },
     "execution_count": 149,
     "metadata": {},
     "output_type": "execute_result"
    }
   ],
   "source": [
    "#Now replace all online payments with adv payment\n",
    "\n",
    "cancelled_orders['Payment Method']=cancelled_orders['Payment Method'].replace({'EasyPaisa':'Adv payment' , 'JazzCash':'Adv payment' , 'BankTransfer':'Adv payment' })\n",
    "cancelled_orders"
   ]
  },
  {
   "cell_type": "code",
   "execution_count": 145,
   "metadata": {
    "execution": {
     "iopub.execute_input": "2023-03-13T22:47:46.151279Z",
     "iopub.status.busy": "2023-03-13T22:47:46.149950Z",
     "iopub.status.idle": "2023-03-13T22:47:46.162244Z",
     "shell.execute_reply": "2023-03-13T22:47:46.161504Z",
     "shell.execute_reply.started": "2023-03-13T22:47:46.151229Z"
    }
   },
   "outputs": [
    {
     "data": {
      "text/plain": [
       "Index(['Adv payment', 'Cash on delivery'], dtype='object')"
      ]
     },
     "execution_count": 145,
     "metadata": {},
     "output_type": "execute_result"
    }
   ],
   "source": [
    "payment_method_values=cancelled_orders['Payment Method'].value_counts().index\n",
    "payment_method_values"
   ]
  },
  {
   "cell_type": "code",
   "execution_count": 146,
   "metadata": {
    "execution": {
     "iopub.execute_input": "2023-03-13T22:47:46.164029Z",
     "iopub.status.busy": "2023-03-13T22:47:46.163245Z",
     "iopub.status.idle": "2023-03-13T22:47:46.179386Z",
     "shell.execute_reply": "2023-03-13T22:47:46.178349Z",
     "shell.execute_reply.started": "2023-03-13T22:47:46.163994Z"
    }
   },
   "outputs": [
    {
     "data": {
      "text/plain": [
       "Adv payment         97\n",
       "Cash on delivery    52\n",
       "Name: Payment Method, dtype: int64"
      ]
     },
     "execution_count": 146,
     "metadata": {},
     "output_type": "execute_result"
    }
   ],
   "source": [
    "payment_method=cancelled_orders['Payment Method'].value_counts()\n",
    "payment_method"
   ]
  },
  {
   "cell_type": "code",
   "execution_count": 147,
   "metadata": {
    "execution": {
     "iopub.execute_input": "2023-03-13T22:47:46.181235Z",
     "iopub.status.busy": "2023-03-13T22:47:46.180827Z",
     "iopub.status.idle": "2023-03-13T22:47:46.273871Z",
     "shell.execute_reply": "2023-03-13T22:47:46.272542Z",
     "shell.execute_reply.started": "2023-03-13T22:47:46.181180Z"
    }
   },
   "outputs": [
    {
     "data": {
      "text/plain": [
       "([<matplotlib.patches.Wedge at 0x7fb0139d9610>,\n",
       "  <matplotlib.patches.Wedge at 0x7fb0139d3c90>],\n",
       " [Text(-0.5024867702071998, 0.9785228897510456, 'Adv payment'),\n",
       "  Text(0.5024867702071992, -0.9785228897510458, 'Cash on delivery')],\n",
       " [Text(-0.2740836928402907, 0.5337397580460248, '65.10%'),\n",
       "  Text(0.27408369284029044, -0.5337397580460249, '34.90%')])"
      ]
     },
     "execution_count": 147,
     "metadata": {},
     "output_type": "execute_result"
    },
    {
     "data": {
      "image/png": "[encoded data removed]",
      "text/plain": [
       "<Figure size 640x480 with 1 Axes>"
      ]
     },
     "metadata": {},
     "output_type": "display_data"
    }
   ],
   "source": [
    "plt.pie(payment_method ,labels =payment_method_values, autopct = '%1.2f%%')"
   ]
  },
  {
   "cell_type": "markdown",
   "metadata": {},
   "source": [
    "* Adv payment ratio is higher than cash on delivery in cancelled orders.\n",
    "* May be order cancellation reason is any kind of adv payment.\n",
    "* Customer change his mind due to payment method."
   ]
  },
  {
   "cell_type": "markdown",
   "metadata": {},
   "source": [
    "# **Analysis report**"
   ]
  },
  {
   "cell_type": "markdown",
   "metadata": {},
   "source": [
    "1. Top 10 cities with most number of orders.\n",
    "2. 93% orders are Completed  , 5.92% are Returned and 0.77% are Cancelled.\n",
    "3. People usually prefer Cash on Delivery payment method.\n",
    "4. Order above than 100 books are mostly returned.\n",
    "5. We notice that 80% of the orders that are above than 100 items at a time are returned. \n",
    "6. To avoid returns , we can fix the limit of itmes ordered at a time.\n",
    "7. Advance payment(bank transfer, easy paisa , jazz cash) maybe the reason of cancellation of orders."
   ]
  },
  {
   "cell_type": "markdown",
   "metadata": {},
   "source": [
    "**Hope so , you find my notebook helpfull.**"
   ]
  },
  {
   "cell_type": "code",
   "execution_count": null,
   "metadata": {},
   "outputs": [],
   "source": []
  }
 ],
 "metadata": {
  "kernelspec": {
   "display_name": "Python 3 (ipykernel)",
   "language": "python",
   "name": "python3"
  },
  "language_info": {
   "codemirror_mode": {
    "name": "ipython",
    "version": 3
   },
   "file_extension": ".py",
   "mimetype": "text/x-python",
   "name": "python",
   "nbconvert_exporter": "python",
   "pygments_lexer": "ipython3",
   "version": "3.9.13"
  }
 },
 "nbformat": 4,
 "nbformat_minor": 4
}
